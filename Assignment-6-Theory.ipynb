{
  "nbformat": 4,
  "nbformat_minor": 0,
  "metadata": {
    "colab": {
      "provenance": [],
      "authorship_tag": "ABX9TyPell14XAKzWvIg4C/HCArH",
      "include_colab_link": true
    },
    "kernelspec": {
      "name": "python3",
      "display_name": "Python 3"
    },
    "language_info": {
      "name": "python"
    }
  },
  "cells": [
    {
      "cell_type": "markdown",
      "metadata": {
        "id": "view-in-github",
        "colab_type": "text"
      },
      "source": [
        "<a href=\"https://colab.research.google.com/github/shagun14/Data-Analysis/blob/main/Assignment-6-Theory.ipynb\" target=\"_parent\"><img src=\"https://colab.research.google.com/assets/colab-badge.svg\" alt=\"Open In Colab\"/></a>"
      ]
    },
    {
      "cell_type": "markdown",
      "source": [
        "<h4>Question 1</h4>\n",
        "Purpose and Advantages of Numpy:\n",
        "<br>\n",
        "<ol>\n",
        "<li>Efficient array handling: NumPy introduces the ndarray object, which is a fast, flexible container for large data sets in Python. This allows users to work with large arrays and matrices efficiently.</li>\n",
        "<li>Numerical Computations: It provides a range of functions for performing mathematical operations on arrays, making it easier to implement complex numerical computations.</li>\n",
        "<li>Interoperability: NumPy arrays are designed to integrate seamlessly with other scientific computing libraries, such as SciPy, Pandas, and Matplotlib, enabling a more robust analytical framework.</li>\n",
        "<li>Memory Efficiency: NumPy arrays require less memory than traditional Python lists. This is particularly beneficial when working with large datasets, as it allows for better memory management and performance.</li>\n",
        "<li>Convenience: NumPy provides a wide array of functions for mathematical operations, statistical analysis, and linear algebra, simplifying the coding process. It also supports broadcasting, which allows for operations between arrays of different shapes.</li><br>\n",
        "Enhancements to Python's Capabilities:\n",
        "<ol>\n",
        "<li>N-dimensional Arrays: Unlike Python lists, which are one-dimensional, NumPy allows the creation of multi-dimensional arrays, enabling more complex data structures.</li>\n",
        "<li>Broadcasting: This feature allows operations on arrays of different shapes without the need for explicit replication of data, making coding more efficient and intuitive.</li>\n",
        "<li>Universal Functions (ufuncs): NumPy provides a set of vectorized functions that operate on entire arrays, greatly enhancing performance for element-wise operations.</li>\n",
        "\n",
        "\n"
      ],
      "metadata": {
        "id": "cFa01nN7d-B9"
      }
    },
    {
      "cell_type": "markdown",
      "source": [
        "<h4>Question 2</h4>\n",
        "np.mean() and np.average() are functions in NumPy that calculate the average of the elements present in an array.<br>\n",
        "<br>\n",
        "np.mean(): It computes the arithmetic mean of the elements along a specified axis of an array. It is needed when you need a straightforward average calculation without any weights. It is the simplest and most efficient method to calculate the mean.<br>\n",
        "np.average(): It computes the weighted average of an array. If no weights are provided, it behaves similar to np.mean(). It is useful in scenarios when you need to calculate a weighted average, where some elements contribute more to the average than others."
      ],
      "metadata": {
        "id": "qsLKjwNmiHCA"
      }
    },
    {
      "cell_type": "code",
      "source": [],
      "metadata": {
        "id": "gl0_3NprmFPe"
      },
      "execution_count": null,
      "outputs": []
    },
    {
      "cell_type": "markdown",
      "source": [
        "<h4>Question 3</h4>\n",
        "Reversing a 1D array: It can be done using slicing"
      ],
      "metadata": {
        "id": "6sJSbK54mX0c"
      }
    },
    {
      "cell_type": "code",
      "source": [
        "import numpy as np\n",
        "arr = np.array([1,2,3,4,5])\n",
        "reversed_arr = arr[::-1]\n",
        "\n",
        "print(\"Original Array\", arr)\n",
        "print(\"Reversed Array\", reversed_arr)\n"
      ],
      "metadata": {
        "colab": {
          "base_uri": "https://localhost:8080/"
        },
        "id": "ZwWudvM0mlji",
        "outputId": "430680ce-68ce-4e22-c8e8-d760217d7077"
      },
      "execution_count": null,
      "outputs": [
        {
          "output_type": "stream",
          "name": "stdout",
          "text": [
            "Original Array [1 2 3 4 5]\n",
            "Reversed Array [5 4 3 2 1]\n"
          ]
        }
      ]
    },
    {
      "cell_type": "markdown",
      "source": [
        "Reversing a 2D array: It can be along specific axes using slicing."
      ],
      "metadata": {
        "id": "5-Gk4PP4nH2A"
      }
    },
    {
      "cell_type": "code",
      "source": [
        "arr1 = np.array([[1,2,3,],[4,5,6],[7,8,9]])\n",
        "reversed_arr1 = arr1[::-1]\n",
        "reversed_arr2 = arr1[:, ::-1]\n",
        "\n",
        "print(\"Original Array\", arr1)\n",
        "print(\"Reversed Array along first axis\", reversed_arr1)\n",
        "print(\"Reversed Array along second axis\", reversed_arr2)"
      ],
      "metadata": {
        "colab": {
          "base_uri": "https://localhost:8080/"
        },
        "id": "RFsm0RMvnr-H",
        "outputId": "71a008ef-214f-44e7-8990-51a4d9b6d198"
      },
      "execution_count": null,
      "outputs": [
        {
          "output_type": "stream",
          "name": "stdout",
          "text": [
            "Original Array [[1 2 3]\n",
            " [4 5 6]\n",
            " [7 8 9]]\n",
            "Reversed Array along first axis [[7 8 9]\n",
            " [4 5 6]\n",
            " [1 2 3]]\n",
            "Reversed Array along second axis [[3 2 1]\n",
            " [6 5 4]\n",
            " [9 8 7]]\n"
          ]
        }
      ]
    },
    {
      "cell_type": "markdown",
      "source": [
        "<h4>Question 4</h4>\n",
        "You can determine the data type of elements in an array using the .dtype attribute of the array."
      ],
      "metadata": {
        "id": "ZlVjDh9_o8Wn"
      }
    },
    {
      "cell_type": "code",
      "source": [
        "import numpy as np\n",
        "arr = np.array([1,2,3,4,5])\n",
        "data_type = arr.dtype\n",
        "\n",
        "print(\"Data Type:\", data_type)"
      ],
      "metadata": {
        "colab": {
          "base_uri": "https://localhost:8080/"
        },
        "id": "0Dz50QPHpeQd",
        "outputId": "c08f477e-14f7-40a2-f9f9-8fd2630e06a7"
      },
      "execution_count": null,
      "outputs": [
        {
          "output_type": "stream",
          "name": "stdout",
          "text": [
            "Data Type: int64\n"
          ]
        }
      ]
    },
    {
      "cell_type": "markdown",
      "source": [
        "Importance of Data Types\n",
        "<ol>\n",
        "<li>Memory Management</li>\n",
        "<ul>\n",
        "<li> Efficiency: Different data types require different amounts of memory. For instance, an int32 takes up 4 bytes, while an int64 takes 8 bytes. Using an appropriate data type minimizes memory usage, which is especially important when dealing with large datasets.</li>\n",
        "<li> Avoiding Overflow: Choosing a data type that is too small for the data can lead to overflow errors. For example, using int8 for values larger than 127 will result in incorrect values.</li>\n",
        "</ul>\n",
        "\n",
        "<li>Performance:</li>\n",
        "<ul>\n",
        "<li>Computation Speed: Operations on smaller data types can be faster. For instance, performing calculations on float32 arrays is typically faster than on float64 due to reduced data size, which can lead to better cache performance.</li>\n",
        "<li>Vectorized Operations: NumPy’s vectorized operations are optimized for specific data types. Using the correct data type can enhance the performance of these operations significantly.</li>\n",
        "</ul>\n",
        "</ol>"
      ],
      "metadata": {
        "id": "uTwcIAWip040"
      }
    },
    {
      "cell_type": "markdown",
      "source": [
        "<h4>Question 5:</h4>\n",
        "An ndarray is a multidimensional, homogeneous array of fixed-size items. It can represent a range of data types, including integers, floats, and even complex numbers. The \"n\" in ndarrays refers to the number of dimensions (axes) the array can have, allowing for representation of scalars (0D), vectors (1D), matrices (2D), and higher-dimensional data.<br>\n",
        "<br>\n",
        "<b>Key Features of ndarrays</b>\n",
        "<ol>\n",
        "<li>Homogeneity: All elements in an ndarray must be of the same data type, which allows for more efficient storage and computation.</li>\n",
        "<li>Multidimensional: Ndarrays can have any number of dimensions (1D, 2D, 3D, etc.). This flexibility makes it easier to represent complex data structures.</li>\n",
        "<li>Indexing and Slicing: Ndarrays provide powerful indexing and slicing capabilities, enabling easy access to subarrays and specific elements.</li>\n",
        "<li>Methods and Functions: NumPy provides a rich set of functions and methods for performing mathematical operations, statistical analysis, and linear algebra on ndarrays.</li>\n",
        "</ol>\n",
        "<br>\n",
        "<br>\n",
        "Differences from standard python lists:<br>\n",
        "<ol>\n",
        "<li>Homogeneity and Heterogeneity:</li>\n",
        "<ul>\n",
        "<li>ndarray: all elements are of same type</li>\n",
        "<li>List: can contain elements of different types</li>\n",
        "</ul>\n",
        "<li>Performance:</li>\n",
        "<ul>\n",
        "<li>ndarray: Optimized for numerical computations and operations, typically faster than lists for large datasets due to internal optimizations and vectorization.</li>\n",
        "<li>List: Slower for numerical computations, especially with large datasets, as operations typically involve iterating over each element.\n",
        "</li>\n",
        "</ul>\n",
        "<li>Multidimensionality:</li>\n",
        "<ul>\n",
        "<li> ndarray: Naturally supports multiple dimensions.</li>\n",
        "<li> List: While lists can be nested to simulate multidimensional arrays, they do not have built-in support for n-dimensionality.</li>\n",
        "</ul>\n",
        "<li>Memory Management:</li>\n",
        "<ul>\n",
        "<li>ndarray: More efficient memory usage due to contiguous storage of elements and fixed data types.</li>\n",
        "<li>List: Less efficient as they store pointers to objects, which can lead to increased memory overhead.</li>"
      ],
      "metadata": {
        "id": "0zCColyhrCXE"
      }
    },
    {
      "cell_type": "markdown",
      "source": [
        "<h4> Question 6</h4>\n",
        "the performance benefits of NumPy arrays over Python lists for large-scale numerical operations include;<br>\n",
        "<ul>\n",
        "<li>Memory Efficiency: Contiguous storage and fixed data types reduce overhead.</li>\n",
        "<li>Speed: Vectorization enables fast computations without explicit loops.</li>\n",
        "<li>Broadcasting: Simplifies operations on arrays of different shapes.</li>\n",
        "<li>Reduced Overhead: Less function call and type-checking overhead compared to Python lists.</li>\n",
        "<li>Parallelization: Leverage optimized libraries for enhanced performance.</li>\n",
        "These advantages make NumPy arrays the preferred choice for scientific computing, data analysis, and any application that requires intensive numerical calculations."
      ],
      "metadata": {
        "id": "jRzChXaGzl2X"
      }
    },
    {
      "cell_type": "markdown",
      "source": [
        "<h4>Question 7</h4>\n",
        "vstack()<br>\n",
        "Functionality: Stacks arrays in sequence vertically (row-wise).<br>\n",
        "Input: Requires a sequence of arrays with the same shape along all but the first axis."
      ],
      "metadata": {
        "id": "d_ETrRmw0DQQ"
      }
    },
    {
      "cell_type": "code",
      "source": [
        "import numpy as np\n",
        "\n",
        "# Create two 2D arrays\n",
        "array1 = np.array([[1, 2, 3],\n",
        "                   [4, 5, 6]])\n",
        "\n",
        "array2 = np.array([[7, 8, 9],\n",
        "                   [10, 11, 12]])\n",
        "\n",
        "# Stack arrays vertically\n",
        "result_vstack = np.vstack((array1, array2))\n",
        "\n",
        "print(\"Result of vstack:\")\n",
        "print(result_vstack)"
      ],
      "metadata": {
        "colab": {
          "base_uri": "https://localhost:8080/"
        },
        "id": "tq9uYzzIpol-",
        "outputId": "787792bd-d553-433a-dc91-0bedf20894c0"
      },
      "execution_count": null,
      "outputs": [
        {
          "output_type": "stream",
          "name": "stdout",
          "text": [
            "Result of vstack:\n",
            "[[ 1  2  3]\n",
            " [ 4  5  6]\n",
            " [ 7  8  9]\n",
            " [10 11 12]]\n"
          ]
        }
      ]
    },
    {
      "cell_type": "markdown",
      "source": [
        "hstack()<br>\n",
        "Functionality: Stacks arrays in sequence horizontally (column-wise).<br>\n",
        "Input: Requires a sequence of arrays with the same shape along all but the second axis."
      ],
      "metadata": {
        "id": "TCrQKwUM2OWW"
      }
    },
    {
      "cell_type": "code",
      "source": [
        "import numpy as np\n",
        "\n",
        "# Create two 2D arrays\n",
        "array1 = np.array([[1, 2, 3],\n",
        "                   [4, 5, 6]])\n",
        "\n",
        "array2 = np.array([[7, 8],\n",
        "                   [9, 10]])\n",
        "\n",
        "# Stack arrays horizontally\n",
        "result_hstack = np.hstack((array1, array2))\n",
        "\n",
        "print(\"Result of hstack:\")\n",
        "print(result_hstack)"
      ],
      "metadata": {
        "colab": {
          "base_uri": "https://localhost:8080/"
        },
        "id": "AGzUg1LO2Mee",
        "outputId": "bdc22040-7078-461c-fdae-869dd98d5617"
      },
      "execution_count": null,
      "outputs": [
        {
          "output_type": "stream",
          "name": "stdout",
          "text": [
            "Result of hstack:\n",
            "[[ 1  2  3  7  8]\n",
            " [ 4  5  6  9 10]]\n"
          ]
        }
      ]
    },
    {
      "cell_type": "markdown",
      "source": [
        "<h4>Question 8</h4>\n",
        "fliplr() and flipud() are functions used to flip arrays in specific directions.<br>\n",
        "Effect on 1D Arrays: Both will reverse the order, but they are intended for 2D contexts.<br>\n",
        "fliplr()\n",
        "<li>Functionality: Flips an array left to right (horizontally).</li>\n",
        "<li>Applicable Dimension: Primarily operates on 2D arrays (matrices). For 1D arrays, it will reverse the order of the elements.</li>"
      ],
      "metadata": {
        "id": "RHOCO8RwA7EP"
      }
    },
    {
      "cell_type": "code",
      "source": [
        "import numpy as np\n",
        "\n",
        "# Create a 2D array\n",
        "array_2d = np.array([[1, 2, 3],\n",
        "                     [4, 5, 6]])\n",
        "\n",
        "# Flip the array left to right\n",
        "result_fliplr = np.fliplr(array_2d)\n",
        "\n",
        "print(\"Original Array:\\n\", array_2d)\n",
        "print(\"Result of fliplr:\\n\", result_fliplr)"
      ],
      "metadata": {
        "id": "vooTzuqD2dZg",
        "colab": {
          "base_uri": "https://localhost:8080/"
        },
        "outputId": "43720960-35c7-4074-ddeb-88d1051ee4bf"
      },
      "execution_count": 10,
      "outputs": [
        {
          "output_type": "stream",
          "name": "stdout",
          "text": [
            "Original Array:\n",
            " [[1 2 3]\n",
            " [4 5 6]]\n",
            "Result of fliplr:\n",
            " [[3 2 1]\n",
            " [6 5 4]]\n"
          ]
        }
      ]
    },
    {
      "cell_type": "markdown",
      "source": [
        "flipud()\n",
        "<li>Functionality: Flips an array up to down (vertically).</li>\n",
        "<li>Applicable Dimension: Also primarily operates on 2D arrays. For 1D arrays, it will reverse the order of the elements.</li>\n"
      ],
      "metadata": {
        "id": "34SIjCncBJvf"
      }
    },
    {
      "cell_type": "code",
      "source": [
        "import numpy as np\n",
        "\n",
        "# Create a 2D array\n",
        "array_2d = np.array([[1, 2, 3],\n",
        "                     [4, 5, 6]])\n",
        "\n",
        "# Flip the array up to down\n",
        "result_flipud = np.flipud(array_2d)\n",
        "\n",
        "print(\"Original Array:\\n\", array_2d)\n",
        "print(\"Result of flipud:\\n\", result_flipud)\n"
      ],
      "metadata": {
        "colab": {
          "base_uri": "https://localhost:8080/"
        },
        "id": "7FzwsU8iBJKj",
        "outputId": "b6d45af6-9f6e-446b-99b2-9844dae4f5c5"
      },
      "execution_count": 11,
      "outputs": [
        {
          "output_type": "stream",
          "name": "stdout",
          "text": [
            "Original Array:\n",
            " [[1 2 3]\n",
            " [4 5 6]]\n",
            "Result of flipud:\n",
            " [[4 5 6]\n",
            " [1 2 3]]\n"
          ]
        }
      ]
    },
    {
      "cell_type": "markdown",
      "source": [
        "<h4>Question 9</h4>\n",
        "The array_split() method in NumPy is used to divide an array into multiple sub-arrays along a specified axis. It offers flexibility in how an array can be split, particularly when dealing with uneven splits.<br>\n",
        "The method takes an input array and the number of sections to split it into. It can split arrays along any axis.<br>\n",
        "Syntax: numpy.array_split(ary, indices_or_sections, axis=0)<br>\n",
        "<h4>Handling uneven splits</h4>\n",
        "When splitting an array into a specified number of sections, if the array cannot be evenly divided, array_split() will distribute the elements as evenly as possible. The first few sub-arrays will receive one more element than the remaining sub-arrays.\n"
      ],
      "metadata": {
        "id": "w5d9TrGQBb4G"
      }
    },
    {
      "cell_type": "code",
      "source": [
        "import numpy as np\n",
        "\n",
        "# Create a 1D array\n",
        "array_1d = np.array([1, 2, 3, 4, 5, 6, 7, 8])\n",
        "\n",
        "# Split into 3 sections\n",
        "result = np.array_split(array_1d, 3)\n",
        "\n",
        "print(\"Original Array:\", array_1d)\n",
        "print(\"Result of array_split (3 sections):\")\n",
        "for i, arr in enumerate(result):\n",
        "    print(f\"Section {i+1}:\", arr)"
      ],
      "metadata": {
        "colab": {
          "base_uri": "https://localhost:8080/"
        },
        "id": "inAJRP7NBTU_",
        "outputId": "327dec85-019f-44ea-c68d-2691f5afeb86"
      },
      "execution_count": 12,
      "outputs": [
        {
          "output_type": "stream",
          "name": "stdout",
          "text": [
            "Original Array: [1 2 3 4 5 6 7 8]\n",
            "Result of array_split (3 sections):\n",
            "Section 1: [1 2 3]\n",
            "Section 2: [4 5 6]\n",
            "Section 3: [7 8]\n"
          ]
        }
      ]
    },
    {
      "cell_type": "markdown",
      "source": [
        "<h4>Question 10</h4>\n",
        "Vectorization and broadcasting are two fundamental concepts in NumPy that significantly enhance the efficiency of array operations. They allow for concise, readable code and reduce the need for explicit loops, leading to improved performance, especially with large datasets.<br>\n",
        "<li>Performance: Operations on entire arrays are typically much faster than using loops because they are optimized and executed in compiled code.</li>\n",
        "<li>Conciseness: Code is shorter and easier to read, making it simpler to understand and maintain.</li>\n",
        "<br>\n",
        "Broadcasting is a powerful mechanism that allows NumPy to perform operations on arrays of different shapes. When performing operations between arrays, NumPy automatically expands the smaller array to match the shape of the larger array.\n",
        "<li>Flexibility: It allows for more flexible operations without needing to manually reshape arrays.</li>\n",
        "<li>Efficiency: Reduces the need for duplicating data, thus saving memory.</li>\n",
        "<br>\n",
        "<h5>Contributions to Efficient Array Operations</h5>\n",
        "<li>Performance: Both vectorization and broadcasting reduce the computational overhead associated with Python loops, leveraging optimized, compiled code for array operations.</li>\n",
        "<li>Code Simplicity: They enable writing cleaner and more understandable code by reducing the need for intricate looping constructs.</li>\n",
        "<li>Memory Efficiency: Broadcasting avoids unnecessary duplication of data, which is particularly advantageous when working with large arrays.</li>"
      ],
      "metadata": {
        "id": "mJnRAtPGB5IS"
      }
    },
    {
      "cell_type": "code",
      "source": [],
      "metadata": {
        "id": "co0oW_WGB2fs"
      },
      "execution_count": null,
      "outputs": []
    }
  ]
}