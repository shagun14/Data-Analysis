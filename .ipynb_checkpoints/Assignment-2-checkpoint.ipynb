{
 "cells": [
  {
   "cell_type": "markdown",
   "id": "e515b37d-9400-4eb4-92bb-f071182f40fb",
   "metadata": {},
   "source": [
    "## Question 1:\n",
    "\n",
    "String slicing is a way to extract a sub-string from any given string by specifying the start index and end index.\n",
    "Syntax: string[start:end:step]\n",
    "start: index from where the slice or sub-string should begin. If no value is given it begins from the index 0 of the string\n",
    "end: index where the slice or sub-string should end. If no value is given its ends at the last index of the string\n",
    "step: interval between characters in the slice or sub-string. If no value is given, default value is 1.\n",
    "\n",
    "String slicing is efficient and powerful for extracting or manipulating specific parts of a string.\n",
    "Examples:"
   ]
  },
  {
   "cell_type": "code",
   "execution_count": 5,
   "id": "931c2d43-fc91-4f71-9893-c2af2575183a",
   "metadata": {},
   "outputs": [
    {
     "name": "stdout",
     "output_type": "stream",
     "text": [
      "Welcome\n",
      "eo ctA\n",
      "Assignments!\n",
      "Wcg\n",
      "!stnemngissA ot kcaB emocleW\n"
     ]
    }
   ],
   "source": [
    "string1 = \"Welcome Back to Assignments!\"\n",
    "\n",
    "print(string1[0:7]) #Basic Slicing\n",
    "print(string1[1:18:3]) #Step Slicing\n",
    "print(string1[-12:]) #Negative Indices\n",
    "print(string1[::10]) #Step Slicing\n",
    "print(string1[::-1]) #Reverse String"
   ]
  },
  {
   "cell_type": "markdown",
   "id": "e4f96dc4-8286-4d92-b907-277646c6d250",
   "metadata": {},
   "source": [
    "Question 2:\n",
    "\n",
    "Lists are the ordered collection of the items that allows us to store items of different data types. \n",
    "Syntax: list[value1, value2, \"value3\", value4].\n",
    "\n",
    "Key features of lists:\n",
    "1. Ordered Collection: Lists maintain the ordered property of the items when inserted. Therefore, while accessing the items, values are given in the same order that they were inserted.\n",
    "2. Mutable: These are mutable in nature and can be modified afterwards once they are created.\n",
    "3. Dynamic Size: Add, remove, and other modification operations can be performed on lists. Lists can dynamically change in size.\n",
    "3. Allows Duplicates: List can have duplicate elements with different element index for each of the element.\n",
    "4. Contains Heterogenous Data Types: A variety of data types can be added to a single list.\n",
    "5. Slicing and Indexing: Elements can be accessed individually using indexing and sub-sets can be obtained using slicing.\n",
    "6. Built-in Methods: There are various built-in methods present for lists.i.e.,apped(),extend(),pop(),sort(),etc.\n",
    "7. Iterative: Lists can be iterated using loops.\n",
    "8. Nested Lists: Lists can contains other lists as elements such as complex data structures like matrices.\n",
    "\n",
    "Examples:"
   ]
  },
  {
   "cell_type": "code",
   "execution_count": 12,
   "id": "fefc93e0-b1dc-46f7-ba45-9c671bbff621",
   "metadata": {},
   "outputs": [
    {
     "name": "stdout",
     "output_type": "stream",
     "text": [
      "10\n",
      "50\n",
      "[10, 1000, 100, 50]\n",
      "[1, 1, 2, 2, 4, 5]\n",
      "['Hello', 20, 26.3, True]\n",
      "10\n",
      "[30]\n",
      "[3, 5, 7, 4, 2, 1, 8]\n",
      "[1, 2, 3, 4, 5, 7, 8]\n",
      "[[2, 5, 10, 20], [3, 6, 9, 18], [4, 8, 13]]\n",
      "1\n",
      "2\n",
      "3\n",
      "4\n",
      "5\n"
     ]
    }
   ],
   "source": [
    "#Ordered Collection\n",
    "list1 = [10, 20, 100, 50]\n",
    "print(list1[0])\n",
    "print(list1[3])\n",
    "\n",
    "#Mutability\n",
    "list1[1] = 1000\n",
    "print(list1)\n",
    "\n",
    "#Duplicate Items:\n",
    "list2 = [1, 1, 2, 2, 4, 5]\n",
    "print(list2)\n",
    "\n",
    "#Heterogenous Data Types\n",
    "list3 = [\"Hello\", 20, 26.3, True]\n",
    "print(list3)\n",
    "\n",
    "#Slicing and Indexing\n",
    "list4 = [10, 20, 30, 40]\n",
    "print(list4[0])\n",
    "print(list4[2:3])\n",
    "\n",
    "#Built-in Methods:\n",
    "list5 = [3, 5, 7, 4, 2, 1]\n",
    "list5.append(8)\n",
    "print(list5)\n",
    "list5.sort()\n",
    "print(list5)\n",
    "\n",
    "#Nested Lists:\n",
    "list6 = [[2, 5, 10, 20], [3, 6, 9, 18], [4, 8, 13]]\n",
    "print(list6)\n",
    "\n",
    "#Iteration:\n",
    "for i in [1, 2, 3, 4, 5]:\n",
    "    print(i)"
   ]
  },
  {
   "cell_type": "markdown",
   "id": "fb9eaa3a-885b-4f2a-8ea4-c785a4caa631",
   "metadata": {},
   "source": [
    "Question 3:\n",
    "\n",
    "i. Accessing Elements in list: Elements can be accessed in lists using indexing. The index in list starts from 0 and can be used in negative way also having -1 as the last element.\n",
    "ii. Modifying Lists: The mutable property of the lists allows them to be modified easily by assigning new value to the dsesired index.\n",
    "iii. Deleting Elements in list: Built-in methods such as del, remove() and pop() allow to delete items from a list depending on the desired situation\n",
    "\n",
    "Examples with code preview:"
   ]
  },
  {
   "cell_type": "code",
   "execution_count": 21,
   "id": "9aafc357-cec2-46ba-aa61-ab9b7d32cf22",
   "metadata": {},
   "outputs": [
    {
     "name": "stdout",
     "output_type": "stream",
     "text": [
      "The first item of the list is: 10\n",
      "The last item of the list is: 50\n",
      "The third item of the list is: 30\n"
     ]
    }
   ],
   "source": [
    "#Accessing elements from a list:\n",
    "list1 = [10, 20, 30, 40, 50]\n",
    "print(\"The first item of the list is:\", list1[0]) #accessing first item\n",
    "print(\"The last item of the list is:\", list1[-1]) #accessing last item\n",
    "print(\"The third item of the list is:\", list1[2]) #accessing third item"
   ]
  },
  {
   "cell_type": "code",
   "execution_count": 22,
   "id": "7cd31046-60f5-4b71-8184-efbd3a85fdf6",
   "metadata": {},
   "outputs": [
    {
     "name": "stdout",
     "output_type": "stream",
     "text": [
      "[2, 4, 6, 8, 10, 12, 14, 16, 18, 20]\n"
     ]
    }
   ],
   "source": [
    "#Modifying elements in a list:\n",
    "list1 = [2, 4, 6, 7, 10, 12, 14, 16, 18, 20]\n",
    "list1[3] = 8\n",
    "print(list1)"
   ]
  },
  {
   "cell_type": "code",
   "execution_count": 24,
   "id": "f08c9e80-de28-4899-baff-24438811ab90",
   "metadata": {},
   "outputs": [
    {
     "name": "stdout",
     "output_type": "stream",
     "text": [
      "[10, 20, 30, 40, 50]\n",
      "[1, 2, 3, 4, 5, 6, 7]\n",
      "[2, 4, 6, 8, 10]\n"
     ]
    }
   ],
   "source": [
    "#Deleting elements from a list:\n",
    "list1 = [10, 20, 30, 40, 60, 50]\n",
    "del list1[4]\n",
    "print(list1)\n",
    "\n",
    "list2 = [1, 2, 3, 4, 5, 5, 6, 7]\n",
    "list2.remove(5)\n",
    "print(list2)\n",
    "\n",
    "list3 = [2, 4, 6, 8, 10, 20]\n",
    "list3.pop(5)\n",
    "print(list3)"
   ]
  },
  {
   "cell_type": "markdown",
   "id": "adeb7eaa-afa5-4c91-b1bb-bcf4b4bf2010",
   "metadata": {},
   "source": [
    "Question 4:\n",
    "\n",
    "Lists and tuples both are used to store collection of items. Lists are the structures that can be modified whereas tuples cannot be modified.\n",
    "Some basic differences between lists and tuples are listed below:\n",
    "\n",
    "1. Mutability: Lists are mutable as their elements can be changed once created and modified.\n",
    "               Tuples are immutable and once created the elements cannot be modified.\n",
    "2. Syntax: Lists are created using the square brackets []\n",
    "            Tuples are created using parentheses or round brackets ()\n",
    "3. Methods: Lists have various built-in methods available to modify elements like append(), remove(), sort(), etc.\n",
    "              Tuples have less methods available due to its immutability like count(), index()\n",
    "4. Performance: Lists are slower than tuples as they allow memory allocation due to modification\n",
    "                 Tuples are faster due to immutable nature.\n",
    "5. Usage: Lists are used to store data that is dynamic and needs modification and updates over time like records.\n",
    "          Tuples are used to store fixed or static data such as coordinates or map, function returns, etc.\n",
    "6. Both lists and tuples can store heterogenous data.\n",
    "7. Both lists and tuples can be nested in a way list of lists, tuple of tuples.\n",
    "          \n",
    "Examples with Code preview:"
   ]
  },
  {
   "cell_type": "code",
   "execution_count": 3,
   "id": "55ba40c1-d6e3-4b31-ba6f-d92fda717167",
   "metadata": {},
   "outputs": [
    {
     "name": "stdout",
     "output_type": "stream",
     "text": [
      "[1, 5, 3, 4]\n"
     ]
    },
    {
     "ename": "TypeError",
     "evalue": "'tuple' object does not support item assignment",
     "output_type": "error",
     "traceback": [
      "\u001b[0;31m---------------------------------------------------------------------------\u001b[0m",
      "\u001b[0;31mTypeError\u001b[0m                                 Traceback (most recent call last)",
      "Cell \u001b[0;32mIn[3], line 7\u001b[0m\n\u001b[1;32m      4\u001b[0m \u001b[38;5;28mprint\u001b[39m(list1)\n\u001b[1;32m      6\u001b[0m tuple1 \u001b[38;5;241m=\u001b[39m (\u001b[38;5;241m1\u001b[39m, \u001b[38;5;241m2\u001b[39m, \u001b[38;5;241m3\u001b[39m) \u001b[38;5;66;03m#syntax of tuples\u001b[39;00m\n\u001b[0;32m----> 7\u001b[0m \u001b[43mtuple1\u001b[49m\u001b[43m[\u001b[49m\u001b[38;5;241;43m1\u001b[39;49m\u001b[43m]\u001b[49m \u001b[38;5;241m=\u001b[39m \u001b[38;5;241m10\u001b[39m \u001b[38;5;66;03m#This will raise error\u001b[39;00m\n",
      "\u001b[0;31mTypeError\u001b[0m: 'tuple' object does not support item assignment"
     ]
    }
   ],
   "source": [
    "#Mutability\n",
    "list1 = [1, 2, 3, 4] #syntax of lists\n",
    "list1[1] = 5\n",
    "print(list1)\n",
    "\n",
    "tuple1 = (1, 2, 3) #syntax of tuples\n",
    "tuple1[1] = 10 #This will raise error"
   ]
  },
  {
   "cell_type": "markdown",
   "id": "8f783d07-c759-4075-98c1-9cbfd68c8b00",
   "metadata": {},
   "source": [
    "Question 5:\n",
    "\n",
    "Set is an unordered collection that contains unique elements. Sets are unordered and therefore we cannot access elements using index like in alist or tuple. Sets can be useful while storing items that doesn't have duplicates. The set itself is mutable in nature although its elements are immutable. You can add or remove elements from a set once they have been created. \n",
    "Sets provide us efficient membership testing operations and it is much faster than lists while dealing with large collection.\n",
    "Mathematical operations like union, intersection, difference can be easily performed on sets.\n",
    "\n",
    "Example of use cases for sets:"
   ]
  },
  {
   "cell_type": "code",
   "execution_count": 6,
   "id": "0bbb4739-d0a6-4065-8f7f-94fab6429cba",
   "metadata": {},
   "outputs": [
    {
     "name": "stdout",
     "output_type": "stream",
     "text": [
      "{1, 2, 3, 4, 5, 6, 7, 8, 9}\n",
      "True\n",
      "False\n",
      "{20, 30}\n",
      "{40, 10, 20, 30}\n"
     ]
    }
   ],
   "source": [
    "#Removing Duplicate items from a list\n",
    "list1 = [1, 2, 3, 4, 4, 5, 6, 7, 5, 9, 8, 6]\n",
    "set1 = set(list1)\n",
    "print(set1)\n",
    "\n",
    "#Testing Membership:\n",
    "set1 = {10, 20, 30, 40}\n",
    "print(10 in set1)\n",
    "print(50 in set1)\n",
    "\n",
    "#Mathematical Operations:\n",
    "set1 = {10, 20, 30, 40}\n",
    "set2 = {20, 30, 50, 60}\n",
    "print(set1 & set2)\n",
    "print(set1 or set2)"
   ]
  },
  {
   "cell_type": "markdown",
   "id": "22a111b0-a37f-47be-b7a0-2cf656fda88d",
   "metadata": {},
   "source": [
    "Question 6:\n",
    "\n",
    "Tuples are used to store immutable, ordered collection of data like storing static data or returing multiple values from function, etc.\n",
    "While sets are used to store unique and unordered collection of data and can be used to remove duplicates and perform set operations are effecient in membership testing\n",
    "\n",
    "Use cases of Tuple:\n",
    "1. Immutable Data: As tuples are immutable they are used to store static or constant data that should not be modified. Such as storing coordinates of map.\n",
    "2. Dictionary Keys: They can be used as keys in dictionary as they are immutable and hashable. They allow to create mapping with composite keys.\n",
    "\n",
    "Use cases of Sets:\n",
    "1. Removing Duplicates: Sets can be useful for removing duplicates from data and are ideal for cleaning data.\n",
    "2. Membership Testing: Sets help in checking whether an element exists in a set and efficient for performing this on lasrge datasets.\n",
    "3. Mathematical Operations: Ideal for performing operations like union, intersection, difference and symmetric difference.\n",
    "4. Large Storage: Sets can be useful for storing large unordered data collection where the order doesn't matters."
   ]
  },
  {
   "cell_type": "markdown",
   "id": "886254ed-fdf1-4f5a-8d44-f36f9a33cfe1",
   "metadata": {},
   "source": [
    "Question 7:\n",
    "\n",
    "Dictionaries are a collection of key-value pairs where each key is unique. They are mutable hence can be easily modified, add items and delete.\n",
    "1. Adding items to a dictionary: New items can be easily added to a dictionary by providing new key-value pairs. Multiple items can be added using update() method.\n",
    "2. Modifying items: For modifying an item in a dictionary you can simply assign a new value to an existing key.\n",
    "3. Deleting items: There are different methods available to remove items from a dictionary based on the scenarios. del, pop(), popitem(), clear()\n",
    "\n",
    "Examples with code preview:"
   ]
  },
  {
   "cell_type": "code",
   "execution_count": 9,
   "id": "ac8860a8-ba97-4401-98c4-0234f98b99d4",
   "metadata": {},
   "outputs": [
    {
     "name": "stdout",
     "output_type": "stream",
     "text": [
      "{'name': 'Python', 'course': 'Data Analytics'}\n",
      "{'name': 'Python', 'course': 'Data Science'}\n",
      "{'name': 'Python', 'course': 'Data Science', 'duration': '6 Months'}\n",
      "{'name': 'Python', 'course': 'Data Science'}\n",
      "Data Science\n",
      "{'name': 'Python'}\n",
      "{}\n"
     ]
    }
   ],
   "source": [
    "#Adding items\n",
    "dict1 = {}\n",
    "dict1[\"name\"] = \"Python\"\n",
    "dict1[\"course\"] = \"Data Analytics\"\n",
    "\n",
    "print(dict1)\n",
    "\n",
    "#Modifying items\n",
    "dict1[\"course\"] = \"Data Science\"\n",
    "print(dict1)\n",
    "\n",
    "#update method\n",
    "dict1.update({\"name\": \"Python\", \"duration\": \"6 Months\"})\n",
    "print(dict1)\n",
    "\n",
    "#Deleting Items:\n",
    "del dict1[\"duration\"]\n",
    "print(dict1)\n",
    "\n",
    "#Pop method\n",
    "course = dict1.pop(\"course\")\n",
    "print(course)\n",
    "print(dict1)\n",
    "\n",
    "#Clear\n",
    "dict1.clear()\n",
    "print(dict1)"
   ]
  },
  {
   "cell_type": "markdown",
   "id": "a8e04f25-53ab-444c-84aa-ebbe6564f322",
   "metadata": {},
   "source": [
    "Question 8: \n",
    "\n",
    "The immutability of dictionary keys helps to ensure consistent hash values and prevents any unpredictable behaviour. It also helps to protect the integrity of the data stored in a dictionary along with ensuring that the keys are not changes and remain the same throughout.\n",
    "In dictionary the key is passed through a hash function that gives a unique hash code to each key. And in case they become mutable it would become difficult to locate the value associated with a key.\n",
    "Dictionary keys help to maintain data integrity that couldn't be done to the mutable objects like lists or sets that would lead to issues such as reliability.\n",
    "\n",
    "If mutable objects would have been allowed to be used as dictionary keys it would have been problematic to handle as the behaviour of the dictionary wouldn't have been consistent if the keys would have been modified or altered.\n",
    "\n",
    "Example of mutable scenario"
   ]
  },
  {
   "cell_type": "code",
   "execution_count": 10,
   "id": "8db30f35-953a-4c7a-9b57-fc549a4c00f7",
   "metadata": {},
   "outputs": [
    {
     "ename": "TypeError",
     "evalue": "unhashable type: 'list'",
     "output_type": "error",
     "traceback": [
      "\u001b[0;31m---------------------------------------------------------------------------\u001b[0m",
      "\u001b[0;31mTypeError\u001b[0m                                 Traceback (most recent call last)",
      "Cell \u001b[0;32mIn[10], line 1\u001b[0m\n\u001b[0;32m----> 1\u001b[0m dict1 \u001b[38;5;241m=\u001b[39m {[\u001b[38;5;241m10\u001b[39m, \u001b[38;5;241m20\u001b[39m]: \u001b[38;5;124m\"\u001b[39m\u001b[38;5;124mHello\u001b[39m\u001b[38;5;124m\"\u001b[39m} \u001b[38;5;66;03m#using a list as a key\u001b[39;00m\n\u001b[1;32m      3\u001b[0m key \u001b[38;5;241m=\u001b[39m [\u001b[38;5;241m10\u001b[39m, \u001b[38;5;241m20\u001b[39m]\n\u001b[1;32m      4\u001b[0m key\u001b[38;5;241m.\u001b[39mappend(\u001b[38;5;241m30\u001b[39m) \u001b[38;5;66;03m#adding item to the list in case lists are allowed as keys\u001b[39;00m\n",
      "\u001b[0;31mTypeError\u001b[0m: unhashable type: 'list'"
     ]
    }
   ],
   "source": [
    "dict1 = {[10, 20]: \"Hello\"} #using a list as a key\n",
    "\n",
    "key = [10, 20]\n",
    "key.append(30) #adding item to the list in case lists are allowed as keys\n",
    "\n",
    "#It would become problematic now to find the key as the list would be updated now and key would be modified. Dictionary value would still be present under the old hash key."
   ]
  },
  {
   "cell_type": "markdown",
   "id": "13007941-0b62-4fef-be6a-417b109544f5",
   "metadata": {},
   "source": [
    "If the above case would be allowed then the original key [10, 20] would no longer match with the updated key [10, 20, 20] although the value of the key has not been modified. It would become impossible for the dictionary to find the associated value with the key due to its mutable nature."
   ]
  }
 ],
 "metadata": {
  "kernelspec": {
   "display_name": "Python 3 (ipykernel)",
   "language": "python",
   "name": "python3"
  },
  "language_info": {
   "codemirror_mode": {
    "name": "ipython",
    "version": 3
   },
   "file_extension": ".py",
   "mimetype": "text/x-python",
   "name": "python",
   "nbconvert_exporter": "python",
   "pygments_lexer": "ipython3",
   "version": "3.10.8"
  }
 },
 "nbformat": 4,
 "nbformat_minor": 5
}
