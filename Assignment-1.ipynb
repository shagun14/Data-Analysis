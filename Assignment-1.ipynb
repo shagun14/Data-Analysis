{
 "cells": [
  {
   "cell_type": "raw",
   "id": "47265a6b-44b1-4a61-a89d-930bfe5d5026",
   "metadata": {},
   "source": [
    "Question 1:\n",
    "\n",
    "Python is one of the most popular programming languages because of its ease of learning, simplicity, versatility and active community.\n",
    "Some of its key features are:\n",
    "1. Ease of learning: The syntax used in python are clear and written in form of natural language that makes it easy to read for others.\n",
    "2. Readability: The clean coding format allows developers to easily understand and minimize upfront errors.\n",
    "3. Versatility: Python can run on several operating systems and its procedural and object-oriented approach allows it to be used vastly.\n",
    "4. Huge Library: It has a variety of libraries available with multiple modules and packages that can handle web development, artificial intelligence as well as Machine Learning.\n",
    "5. Large Active Community: The active community present for python contributes to its maintenance of libraries and development driven by the community itself."
   ]
  },
  {
   "cell_type": "raw",
   "id": "c3ebf35e-d1d0-4a9d-b82c-45b3f4f65e2d",
   "metadata": {},
   "source": [
    "Question 2:\n",
    "\n",
    "Predefined keywords hold a special meaning and are reserved words that hold a specific purpose. They cannot be used as variable or function names. They have their own integral meaning and they control the behaviour, flow and the structure of the program. Some of the examples of the keywords are: if, elif, while, try, import, from, return, finally, except, assert, etc. \n",
    "\n",
    "Usage with code example:"
   ]
  },
  {
   "cell_type": "code",
   "execution_count": 2,
   "id": "46254cc9-9e19-4431-a347-110aab333c4d",
   "metadata": {},
   "outputs": [
    {
     "name": "stdout",
     "output_type": "stream",
     "text": [
      "x is lesser than 20.\n"
     ]
    }
   ],
   "source": [
    "#if/else keyword\n",
    "x = 10\n",
    "if x < 20:\n",
    "    print(\"x is lesser than 20.\")\n",
    "else:\n",
    "    print(\"x is greater than 20.\")\n"
   ]
  },
  {
   "cell_type": "raw",
   "id": "91f55f73-2e57-4bbc-8297-9eaef45deb60",
   "metadata": {},
   "source": [
    "Question 3:\n",
    "\n",
    "Objects in python are basically classified into mutable and immutable based on whether their state can be changed once they are created.\n",
    "Mutable Objects: The objects whose state can be changed after they are created are known as mutable objects. Their memory address doesn't change although the content is be modified.\n",
    "Examples: Lists, Dictionary\n",
    "Immutable Objects: The objects whose state or content cannot be modified once they are created are called immutable. Examples: string, tuple, int, float\n",
    "\n",
    "Example of Mutable and Immutable Objects:"
   ]
  },
  {
   "cell_type": "code",
   "execution_count": 6,
   "id": "cbd091f7-7ace-4bbd-9348-b42bf8f10f87",
   "metadata": {},
   "outputs": [
    {
     "name": "stdout",
     "output_type": "stream",
     "text": [
      "List items when created: [1, 10, 100]\n",
      "Updated list: [1, 'mutable', 100, 4]\n"
     ]
    }
   ],
   "source": [
    "#List: Mutable Object\n",
    "my_list = [1, 10, 100]\n",
    "print(\"List items when created:\", my_list)\n",
    "\n",
    "#Changing the contents of list\n",
    "my_list.append(4)\n",
    "my_list[1] = \"mutable\"\n",
    "print(\"Updated list:\", my_list) #After adding or removing items from the list, the list gets updated"
   ]
  },
  {
   "cell_type": "code",
   "execution_count": 7,
   "id": "ca9d8075-3a71-4283-9b51-4874fc80e423",
   "metadata": {},
   "outputs": [
    {
     "ename": "TypeError",
     "evalue": "'str' object does not support item assignment",
     "output_type": "error",
     "traceback": [
      "\u001b[0;31m---------------------------------------------------------------------------\u001b[0m",
      "\u001b[0;31mTypeError\u001b[0m                                 Traceback (most recent call last)",
      "Cell \u001b[0;32mIn[7], line 3\u001b[0m\n\u001b[1;32m      1\u001b[0m \u001b[38;5;66;03m#String: Immutable Object\u001b[39;00m\n\u001b[1;32m      2\u001b[0m name \u001b[38;5;241m=\u001b[39m \u001b[38;5;124m\"\u001b[39m\u001b[38;5;124mAsignment\u001b[39m\u001b[38;5;124m\"\u001b[39m\n\u001b[0;32m----> 3\u001b[0m \u001b[43mname\u001b[49m\u001b[43m[\u001b[49m\u001b[38;5;241;43m1\u001b[39;49m\u001b[43m]\u001b[49m \u001b[38;5;241m=\u001b[39m \u001b[38;5;124m\"\u001b[39m\u001b[38;5;124mAs\u001b[39m\u001b[38;5;124m\"\u001b[39m\n",
      "\u001b[0;31mTypeError\u001b[0m: 'str' object does not support item assignment"
     ]
    }
   ],
   "source": [
    "#String: Immutable Object\n",
    "name = \"Asignment\"\n",
    "name[1] = \"As\""
   ]
  },
  {
   "cell_type": "code",
   "execution_count": 8,
   "id": "3270ce28-c0cc-46b5-95f3-908fdf722ace",
   "metadata": {},
   "outputs": [],
   "source": [
    "# Due to its immutable property the string content cannot be modified and cannot assign new value to its content.\n"
   ]
  },
  {
   "cell_type": "raw",
   "id": "47ca2250-25c0-4765-8424-cd3d14ebbb7c",
   "metadata": {},
   "source": [
    "Question 4:\n",
    "\n",
    "There are a variety of operators available in Python that can help to perform various operations on variables. Operators are usually special symbols to perform operation on operands. They can be listed as follows:\n",
    "1. Arithmetic Operators: + (addition), - (subtraction), * (multiplication), / (division), % (modulus), ** (exponentiation)\n",
    "2. Comparison Operators: == (equal to), != (not equal to), > (greater than), < (lesser than), >= (greater than or equal to), <= (less than or equal to)\n",
    "3. Logical Operators: AND, OR, NOT\n",
    "4. Bitwise Operators: &, |, ^, ~, <<, >>\n",
    "5. Assignment Operators: =, +=, -=, *=, /=, %=, **=, //=\n",
    "6. Membership Operators: in, not in\n",
    "7. Identity Operators: is, is not\n",
    "\n",
    "Example with code preview:"
   ]
  },
  {
   "cell_type": "code",
   "execution_count": 9,
   "id": "1920aa69-9a2d-4440-9005-ef459c65aefc",
   "metadata": {},
   "outputs": [
    {
     "name": "stdout",
     "output_type": "stream",
     "text": [
      "Arithmetic Operators Example:\n",
      "Addition: 15\n",
      "Subtraction: -5\n",
      "Modulus: 5\n",
      "Exponentiation 9765625\n",
      "Comparison Operators Example:\n",
      "Equal False\n",
      "No Equal to False\n",
      "Greater than False\n",
      "Less than True\n",
      "Logical Operators Example:\n",
      "c and d: False\n",
      "c or d True\n",
      "Bitwise Operators Example:\n",
      "AND: 0\n",
      "OR 13\n"
     ]
    }
   ],
   "source": [
    "#Arithmetic Operators: used to perform mathematical operations\n",
    "a = 5\n",
    "b = 10\n",
    "print(\"Arithmetic Operators Example:\")\n",
    "print(\"Addition:\", a+b)\n",
    "print(\"Subtraction:\", a-b)\n",
    "print(\"Modulus:\", a%b)\n",
    "print(\"Exponentiation\", a**b)\n",
    "      \n",
    "#Comparison Operators: Compares the value of two variables and give boolean value\n",
    "x = 10\n",
    "y = 20\n",
    "print(\"Comparison Operators Example:\")\n",
    "print(\"Equal\", x==y)\n",
    "print(\"No Equal to\", x==y)\n",
    "print(\"Greater than\", x>y)\n",
    "print(\"Less than\", x<y)\n",
    "\n",
    "#Logical Operators: Perform logical operation and return boolean value\n",
    "c = True\n",
    "d = False\n",
    "print(\"Logical Operators Example:\")\n",
    "print(\"c and d:\", c and d)\n",
    "print(\"c or d\", c or d)\n",
    "\n",
    "#Bitwise Operators: Perform operation on bits\n",
    "g = 8\n",
    "h = 5\n",
    "print(\"Bitwise Operators Example:\")\n",
    "print(\"AND:\", g & h)\n",
    "print(\"OR\", g | h)"
   ]
  },
  {
   "cell_type": "markdown",
   "id": "6260622e-ab70-41ab-b62b-23e48c9db02e",
   "metadata": {},
   "source": [
    "Question 5:\n",
    "\n",
    "Type casting also known as type conersion is used to convert one type of data into another. The two types are Implicit and Explicit type casting.\n",
    "Implicit: It is automatically done by python while assigning values.\n",
    "Explicit: It is done manually to convert one data type to another using built-in python functions.\n",
    "\n",
    "Examples:"
   ]
  },
  {
   "cell_type": "code",
   "execution_count": 12,
   "id": "d8fe0e97-2682-429c-aa5e-ab8c6568c061",
   "metadata": {},
   "outputs": [
    {
     "name": "stdout",
     "output_type": "stream",
     "text": [
      "8.5\n",
      "<class 'float'>\n",
      "12\n",
      "<class 'int'>\n"
     ]
    }
   ],
   "source": [
    "#Implicit Type Casting:\n",
    "a = 5  #integer value\n",
    "b = 3.5  #float value\n",
    "\n",
    "ans = a+b\n",
    "print(ans)\n",
    "print(type(ans))\n",
    "\n",
    "#Explicit Type Casting:\n",
    "c = \"12\"  #c is assigned string value\n",
    "d = int(c) # converting value explicity to integer\n",
    "print(d)\n",
    "print(type(d))"
   ]
  },
  {
   "cell_type": "raw",
   "id": "6545932d-402f-4411-87c4-b5ca401c1d33",
   "metadata": {},
   "source": [
    "Question 6:\n",
    "\n",
    "Conditional statements allow to execute specific code based on whether a condition or set of conditions meet the requirement.\n",
    "if statement: checks condition and executes the block if the condition is True.\n",
    "elif statement: checks another condition if the previous if conditions are False.\n",
    "else statement: exexutes if none of the previous if, elif are True.\n",
    "\n",
    "Examples:"
   ]
  },
  {
   "cell_type": "code",
   "execution_count": 13,
   "id": "89bdabc4-9a2b-47e8-9704-9dc39e4262f7",
   "metadata": {},
   "outputs": [
    {
     "name": "stdout",
     "output_type": "stream",
     "text": [
      "You are a minor\n"
     ]
    }
   ],
   "source": [
    "#if/ else statement\n",
    "age = 15\n",
    "if age >= 18:\n",
    "    print(\"You are an adult\")\n",
    "else:\n",
    "    print(\"You are a minor\")"
   ]
  },
  {
   "cell_type": "code",
   "execution_count": 14,
   "id": "7b177a5a-99ea-475f-b2a2-8cd0ec0e592b",
   "metadata": {},
   "outputs": [
    {
     "name": "stdout",
     "output_type": "stream",
     "text": [
      "C grade\n"
     ]
    }
   ],
   "source": [
    "#if/elif/else statement\n",
    "marks = 75\n",
    "if marks >= 90:\n",
    "    print(\"A grade\")\n",
    "elif marks >= 80:\n",
    "    print(\"B grade\")\n",
    "elif marks >= 70:\n",
    "    print(\"C grade\")\n",
    "else:\n",
    "    print(\"D grade\")"
   ]
  },
  {
   "cell_type": "raw",
   "id": "73a2adae-a1b3-474f-b48e-576c62258e5d",
   "metadata": {},
   "source": [
    "Question 7:\n",
    "\n",
    "Loops are used to execute a block of code repeatedly until the condition is met. There are two types of loops: for and while loop. \n",
    "break, continue, pass are used to control the flow of loops."
   ]
  },
  {
   "cell_type": "code",
   "execution_count": 15,
   "id": "b2f6ea43-38d6-45f3-83a8-68adceeaaa1f",
   "metadata": {},
   "outputs": [
    {
     "name": "stdout",
     "output_type": "stream",
     "text": [
      "lion\n",
      "tiger\n",
      "dog\n",
      "cat\n"
     ]
    }
   ],
   "source": [
    "#for loop\n",
    "animals = [\"lion\", \"tiger\", \"dog\", \"cat\"]\n",
    "for animal in animals:\n",
    "    print(animal)"
   ]
  },
  {
   "cell_type": "code",
   "execution_count": 18,
   "id": "9d1c2621-eb8b-4c0d-aca8-8540241bb7d8",
   "metadata": {},
   "outputs": [
    {
     "name": "stdout",
     "output_type": "stream",
     "text": [
      "Number is: 0\n",
      "Number is: 1\n",
      "Number is: 2\n",
      "Number is: 3\n",
      "Number is: 4\n"
     ]
    }
   ],
   "source": [
    "#usage of range\n",
    "for i in range(5):\n",
    "    print(\"Number is:\", i)"
   ]
  },
  {
   "cell_type": "code",
   "execution_count": 19,
   "id": "116fbde8-5057-4588-bcda-d1a43018798b",
   "metadata": {},
   "outputs": [
    {
     "name": "stdout",
     "output_type": "stream",
     "text": [
      "Number is: 1\n",
      "Number is: 2\n",
      "Number is: 3\n",
      "Number is: 4\n",
      "Number is: 5\n"
     ]
    }
   ],
   "source": [
    "#while loop\n",
    "n = 1\n",
    "while n <= 5:\n",
    "    print(\"Number is:\", n)\n",
    "    n += 1"
   ]
  },
  {
   "cell_type": "code",
   "execution_count": null,
   "id": "4e918d86-ca8b-4e39-be30-81800e4757aa",
   "metadata": {},
   "outputs": [],
   "source": []
  }
 ],
 "metadata": {
  "kernelspec": {
   "display_name": "Python 3 (ipykernel)",
   "language": "python",
   "name": "python3"
  },
  "language_info": {
   "codemirror_mode": {
    "name": "ipython",
    "version": 3
   },
   "file_extension": ".py",
   "mimetype": "text/x-python",
   "name": "python",
   "nbconvert_exporter": "python",
   "pygments_lexer": "ipython3",
   "version": "3.10.8"
  }
 },
 "nbformat": 4,
 "nbformat_minor": 5
}
