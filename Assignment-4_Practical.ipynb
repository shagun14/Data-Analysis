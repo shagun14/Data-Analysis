{
 "cells": [
  {
   "cell_type": "code",
   "execution_count": 2,
   "id": "d18bace4-dc5b-41e7-a041-e90cd529ee39",
   "metadata": {},
   "outputs": [
    {
     "name": "stdout",
     "output_type": "stream",
     "text": [
      "160\n"
     ]
    }
   ],
   "source": [
    "def sum_even_numbers(num):\n",
    "    total_sum = 0\n",
    "    for number in num:\n",
    "        if number % 2 == 0: #checking even number\n",
    "            total_sum += number    \n",
    "    return total_sum\n",
    "\n",
    "numbers_list = [11, 20, 29, 40, 38, 50, 12]\n",
    "print(sum_even_numbers(numbers_list))"
   ]
  },
  {
   "cell_type": "code",
   "execution_count": 3,
   "id": "a2c604a8-5f62-4f90-8d4c-276c5b7705db",
   "metadata": {},
   "outputs": [
    {
     "name": "stdin",
     "output_type": "stream",
     "text": [
      "Enter a string: Welcome to the course\n"
     ]
    },
    {
     "name": "stdout",
     "output_type": "stream",
     "text": [
      "Reversed string: esruoc eht ot emocleW\n"
     ]
    }
   ],
   "source": [
    "def reverse(s):    \n",
    "    return s[::-1]\n",
    "\n",
    "string = input(\"Enter a string:\")\n",
    "res = reverse(string)\n",
    "print(\"Reversed string:\", res)"
   ]
  },
  {
   "cell_type": "code",
   "execution_count": 37,
   "id": "6e4b467b-b030-4e90-8121-e8abe64f0572",
   "metadata": {},
   "outputs": [
    {
     "name": "stdout",
     "output_type": "stream",
     "text": [
      "Fibonacci sequence:\n",
      "0 1 1 2 3 5 8 13 21 34 "
     ]
    }
   ],
   "source": [
    "class FibonacciIterator:\n",
    "    def __init__(self, num_terms):       \n",
    "        self.num_terms = num_terms\n",
    "        self.current_term = 0\n",
    "        self.a, self.b = 0, 1\n",
    "    \n",
    "    def __iter__(self):        \n",
    "        return self\n",
    "    \n",
    "    def __next__(self):        \n",
    "        if self.current_term < self.num_terms:\n",
    "            # Return the current Fibonacci number\n",
    "            fib_number = self.a\n",
    "            # Update Fibonacci numbers\n",
    "            self.a, self.b = self.b, self.a + self.b\n",
    "            self.current_term += 1\n",
    "            return fib_number\n",
    "        else:\n",
    "            #stop the iteration\n",
    "            raise StopIteration\n",
    "\n",
    "# Example usage\n",
    "num_terms = 10\n",
    "fibonacci_seq = FibonacciIterator(num_terms)\n",
    "\n",
    "print(\"Fibonacci sequence:\")\n",
    "for number in fibonacci_seq:\n",
    "    print(number, end=' ')"
   ]
  },
  {
   "cell_type": "code",
   "execution_count": 6,
   "id": "dcd51d24-0787-4699-ae3c-ab2b8490601f",
   "metadata": {},
   "outputs": [
    {
     "name": "stdout",
     "output_type": "stream",
     "text": [
      "Squared Numbers: [1, 4, 9, 16, 25]\n"
     ]
    }
   ],
   "source": [
    "def square(numbers):\n",
    "    result = [num ** 2 for num in numbers]    \n",
    "    return result\n",
    "\n",
    "# Example usage\n",
    "list1 = [1, 2, 3, 4, 5]\n",
    "result = square(list1)\n",
    "print(\"Squared Numbers:\", result)"
   ]
  },
  {
   "cell_type": "code",
   "execution_count": 7,
   "id": "df4e07a9-402a-4de1-91fb-7caacdab6324",
   "metadata": {},
   "outputs": [
    {
     "name": "stdout",
     "output_type": "stream",
     "text": [
      "2\n",
      "3\n",
      "5\n",
      "7\n",
      "11\n",
      "13\n",
      "17\n",
      "19\n",
      "23\n",
      "29\n",
      "31\n",
      "37\n",
      "41\n",
      "43\n",
      "47\n",
      "53\n",
      "59\n",
      "61\n",
      "67\n",
      "71\n",
      "73\n",
      "79\n",
      "83\n",
      "89\n",
      "97\n",
      "101\n",
      "103\n",
      "107\n",
      "109\n",
      "113\n",
      "127\n",
      "131\n",
      "137\n",
      "139\n",
      "149\n",
      "151\n",
      "157\n",
      "163\n",
      "167\n",
      "173\n",
      "179\n",
      "181\n",
      "191\n",
      "193\n",
      "197\n",
      "199\n"
     ]
    }
   ],
   "source": [
    "import math\n",
    "\n",
    "def check_prime(n):\n",
    "    if n <= 1:\n",
    "        return False\n",
    "    if n <= 3:\n",
    "        return True\n",
    "    if n % 2 == 0 or n % 3 == 0:\n",
    "        return False\n",
    "    i = 5\n",
    "    while i * i <= n:\n",
    "        if n % i == 0 or n % (i + 2) == 0:\n",
    "            return False\n",
    "        i += 6    \n",
    "    return True\n",
    "\n",
    "for num in range(1, 201):\n",
    "    if check_prime(num):\n",
    "        print(num)"
   ]
  },
  {
   "cell_type": "code",
   "execution_count": null,
   "id": "331b17af-a6c9-4726-9822-dcc8ca00b5e6",
   "metadata": {},
   "outputs": [
    {
     "name": "stdout",
     "output_type": "stream",
     "text": [
      "1 2 4 8 16 32 "
     ]
    }
   ],
   "source": [
    "def power(max_exponent):\n",
    "    for exponent in range(exp + 1):\n",
    "        yield 2 ** exponent\n",
    "\n",
    "exp = 5\n",
    "for power in power(exp):\n",
    "    print(power, end=' ')"
   ]
  },
  {
   "cell_type": "code",
   "execution_count": 15,
   "id": "3d48ec6b-3637-457a-9c56-3eb7d9202ddc",
   "metadata": {},
   "outputs": [
    {
     "name": "stdout",
     "output_type": "stream",
     "text": [
      "Lines in the file:\n",
      "This contains the example code file for Assignment 4"
     ]
    }
   ],
   "source": [
    "def read(file_path):\n",
    "    try:\n",
    "        with open(file_path, 'r') as file:\n",
    "            for line in file:\n",
    "                yield line\n",
    "    except FileNotFoundError:\n",
    "        print(\"The file not found.\")\n",
    "\n",
    "\n",
    "file_path = 'example.txt'  \n",
    "print(\"Lines in the file:\")\n",
    "for line in read(file_path):\n",
    "    print(line, end='') "
   ]
  },
  {
   "cell_type": "code",
   "execution_count": 22,
   "id": "ef07597e-c406-4c7a-9435-2242f0e973eb",
   "metadata": {},
   "outputs": [
    {
     "name": "stdout",
     "output_type": "stream",
     "text": [
      "Sorted list based on the second element: [(2, 2), (1, 4), (4, 5), (3, 9)]\n"
     ]
    }
   ],
   "source": [
    "tuple1 = [(1, 4), (2, 2), (3, 9), (4, 5)]\n",
    "\n",
    "data = sorted(tuple1, key=lambda x: x[1])\n",
    "\n",
    "print(\"Sorted list based on the second element:\", data)"
   ]
  },
  {
   "cell_type": "code",
   "execution_count": 27,
   "id": "9fb27935-20bb-4f51-940e-4312b0d7a518",
   "metadata": {},
   "outputs": [
    {
     "name": "stdout",
     "output_type": "stream",
     "text": [
      "Celsius temp: [0, 10, 20, 30, 40, 100]\n",
      "Fahrenheit temp: [32.0, 50.0, 68.0, 86.0, 104.0, 212.0]\n"
     ]
    }
   ],
   "source": [
    "def celsius_fahrenheit(celsius):\n",
    "    return (celsius * 9/5) + 32\n",
    "\n",
    "\n",
    "c_temp = [0, 10, 20, 30, 40, 100]\n",
    "f_temp = map(celsius_fahrenheit, c_temp)\n",
    "f_temp_list = list(f_temp)\n",
    "\n",
    "print(\"Celsius temp:\", c_temp)\n",
    "print(\"Fahrenheit temp:\", f_temp_list)"
   ]
  },
  {
   "cell_type": "code",
   "execution_count": 31,
   "id": "4d716725-1eba-47be-9ead-2a462d058b0b",
   "metadata": {},
   "outputs": [
    {
     "name": "stdin",
     "output_type": "stream",
     "text": [
      "Enter the string: Welcome to the Python Class\n"
     ]
    },
    {
     "name": "stdout",
     "output_type": "stream",
     "text": [
      "Original string: Welcome to the Python Class\n",
      "String without vowels: Wlcm t th Pythn Clss\n"
     ]
    }
   ],
   "source": [
    "def not_vowel(char):\n",
    "    vowels = 'aeiouAEIOU'\n",
    "    return char not in vowels\n",
    "\n",
    "def remove_vowels(input_string):\n",
    "    # Filter out vowels using the not_vowel function\n",
    "    filtered_characters = filter(not_vowel, input_string)\n",
    "    \n",
    "    # Join the filtered characters into a new string\n",
    "    result_string = ''.join(filtered_characters)\n",
    "    \n",
    "    return result_string\n",
    "\n",
    "# Example usage\n",
    "input_string = input(\"Enter the string:\")\n",
    "result = remove_vowels(input_string)\n",
    "print(\"Original string:\", input_string)\n",
    "print(\"String without vowels:\", result)"
   ]
  },
  {
   "cell_type": "code",
   "execution_count": 34,
   "id": "e4497e98-3a92-4336-bc70-29f642028ff0",
   "metadata": {},
   "outputs": [
    {
     "name": "stdout",
     "output_type": "stream",
     "text": [
      "Order totals with adjustments: [(34587, 163.8), (98762, 284.0), (77226, 108.85000000000001), (88112, 84.97)]\n"
     ]
    }
   ],
   "source": [
    "\n",
    "def total(order):\n",
    "    order_number, price_per_item, quantity = order\n",
    "    total_price = price_per_item * quantity\n",
    "    # Add €10 if total_price is less than €100\n",
    "    if total_price < 100:\n",
    "        total_price += 10\n",
    "    return (order_number, total_price)\n",
    "\n",
    "# List of orders having [order_number, price_per_item, quantity]\n",
    "orders = [\n",
    "    [34587, 4, 40.95],   \n",
    "    [98762, 5, 56.80],   \n",
    "    [77226, 3, 32.95],  \n",
    "    [88112, 3, 24.99]   \n",
    "]\n",
    "\n",
    "#Using map and lambda function\n",
    "result = list(map(lambda order: total(order), orders))\n",
    "\n",
    "# Print the results\n",
    "print(\"Order totals with adjustments:\", result)"
   ]
  },
  {
   "cell_type": "code",
   "execution_count": null,
   "id": "8e66a23b-6496-42b2-8fde-8b4262b86e11",
   "metadata": {},
   "outputs": [],
   "source": []
  }
 ],
 "metadata": {
  "kernelspec": {
   "display_name": "Python 3 (ipykernel)",
   "language": "python",
   "name": "python3"
  },
  "language_info": {
   "codemirror_mode": {
    "name": "ipython",
    "version": 3
   },
   "file_extension": ".py",
   "mimetype": "text/x-python",
   "name": "python",
   "nbconvert_exporter": "python",
   "pygments_lexer": "ipython3",
   "version": "3.10.8"
  }
 },
 "nbformat": 4,
 "nbformat_minor": 5
}
