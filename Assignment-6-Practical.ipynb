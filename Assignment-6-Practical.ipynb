{
  "nbformat": 4,
  "nbformat_minor": 0,
  "metadata": {
    "colab": {
      "provenance": [],
      "authorship_tag": "ABX9TyPWLYRmSm0EPR7bGrheoWkj",
      "include_colab_link": true
    },
    "kernelspec": {
      "name": "python3",
      "display_name": "Python 3"
    },
    "language_info": {
      "name": "python"
    }
  },
  "cells": [
    {
      "cell_type": "markdown",
      "metadata": {
        "id": "view-in-github",
        "colab_type": "text"
      },
      "source": [
        "<a href=\"https://colab.research.google.com/github/shagun14/Data-Analysis/blob/main/Assignment-6-Practical.ipynb\" target=\"_parent\"><img src=\"https://colab.research.google.com/assets/colab-badge.svg\" alt=\"Open In Colab\"/></a>"
      ]
    },
    {
      "cell_type": "markdown",
      "source": [
        "Question 1"
      ],
      "metadata": {
        "id": "-IGl6puRMBcz"
      }
    },
    {
      "cell_type": "code",
      "source": [
        "import numpy as np\n",
        "\n",
        "# Create a 3x3 array with random integers between 1 and 100\n",
        "array = np.random.randint(1, 101, size=(3, 3))\n",
        "print(\"Original Array:\\n\", array)\n",
        "\n",
        "# Interchange rows and columns (transpose the array)\n",
        "transposed_array = np.transpose(array)\n",
        "# Alternatively, you can use array.T\n",
        "# transposed_array = array.T\n",
        "\n",
        "print(\"\\nTransposed Array:\\n\", transposed_array)"
      ],
      "metadata": {
        "colab": {
          "base_uri": "https://localhost:8080/"
        },
        "id": "IMyivF0DMDcs",
        "outputId": "225b004a-9fdc-4913-f9db-580f6db6f56d"
      },
      "execution_count": 1,
      "outputs": [
        {
          "output_type": "stream",
          "name": "stdout",
          "text": [
            "Original Array:\n",
            " [[79 57 72]\n",
            " [18  1 93]\n",
            " [25 60 84]]\n",
            "\n",
            "Transposed Array:\n",
            " [[79 18 25]\n",
            " [57  1 60]\n",
            " [72 93 84]]\n"
          ]
        }
      ]
    },
    {
      "cell_type": "markdown",
      "source": [
        "Question 2"
      ],
      "metadata": {
        "id": "B2qHTzqhMJpH"
      }
    },
    {
      "cell_type": "code",
      "source": [
        "import numpy as np\n",
        "\n",
        "# Generate a 1D array with 10 elements\n",
        "array_1d = np.arange(10)  # This creates an array with values from 0 to 9\n",
        "print(\"Original 1D Array:\\n\", array_1d)\n",
        "\n",
        "# Reshape it into a 2x5 array\n",
        "array_2x5 = array_1d.reshape(2, 5)\n",
        "print(\"\\nReshaped to 2x5 Array:\\n\", array_2x5)\n",
        "\n",
        "# Reshape it into a 5x2 array\n",
        "array_5x2 = array_1d.reshape(5, 2)\n",
        "print(\"\\nReshaped to 5x2 Array:\\n\", array_5x2)"
      ],
      "metadata": {
        "colab": {
          "base_uri": "https://localhost:8080/"
        },
        "id": "zMyAoKNzMHbn",
        "outputId": "3da6864a-c316-4ef5-8481-0c29398c1982"
      },
      "execution_count": 2,
      "outputs": [
        {
          "output_type": "stream",
          "name": "stdout",
          "text": [
            "Original 1D Array:\n",
            " [0 1 2 3 4 5 6 7 8 9]\n",
            "\n",
            "Reshaped to 2x5 Array:\n",
            " [[0 1 2 3 4]\n",
            " [5 6 7 8 9]]\n",
            "\n",
            "Reshaped to 5x2 Array:\n",
            " [[0 1]\n",
            " [2 3]\n",
            " [4 5]\n",
            " [6 7]\n",
            " [8 9]]\n"
          ]
        }
      ]
    },
    {
      "cell_type": "markdown",
      "source": [
        "Question 3:"
      ],
      "metadata": {
        "id": "OMJZamhVMP12"
      }
    },
    {
      "cell_type": "code",
      "source": [
        "import numpy as np\n",
        "\n",
        "# Create a 4x4 array with random float values\n",
        "array_4x4 = np.random.rand(4, 4)\n",
        "print(\"Original 4x4 Array:\\n\", array_4x4)\n",
        "\n",
        "# Add a border of zeros around the 4x4 array\n",
        "array_with_border = np.pad(array_4x4, pad_width=1, mode='constant', constant_values=0)\n",
        "print(\"\\n6x6 Array with Border of Zeros:\\n\", array_with_border)"
      ],
      "metadata": {
        "colab": {
          "base_uri": "https://localhost:8080/"
        },
        "id": "XKUT_cclMTf8",
        "outputId": "2c3e6e10-d0cc-4fb6-87fe-8c08f95a1c55"
      },
      "execution_count": 3,
      "outputs": [
        {
          "output_type": "stream",
          "name": "stdout",
          "text": [
            "Original 4x4 Array:\n",
            " [[0.38605551 0.33227848 0.36447716 0.59356067]\n",
            " [0.37393415 0.75785879 0.18599568 0.57496383]\n",
            " [0.62638028 0.11706307 0.53496475 0.81862824]\n",
            " [0.86146014 0.59774319 0.42225659 0.33715377]]\n",
            "\n",
            "6x6 Array with Border of Zeros:\n",
            " [[0.         0.         0.         0.         0.         0.        ]\n",
            " [0.         0.38605551 0.33227848 0.36447716 0.59356067 0.        ]\n",
            " [0.         0.37393415 0.75785879 0.18599568 0.57496383 0.        ]\n",
            " [0.         0.62638028 0.11706307 0.53496475 0.81862824 0.        ]\n",
            " [0.         0.86146014 0.59774319 0.42225659 0.33715377 0.        ]\n",
            " [0.         0.         0.         0.         0.         0.        ]]\n"
          ]
        }
      ]
    },
    {
      "cell_type": "markdown",
      "source": [
        "Question 4:"
      ],
      "metadata": {
        "id": "rN5k7ZEuMYvT"
      }
    },
    {
      "cell_type": "code",
      "source": [
        "import numpy as np\n",
        "\n",
        "# Create an array of integers from 10 to 60 with a step of 5\n",
        "array = np.arange(10, 61, 5)\n",
        "print(\"Array of integers from 10 to 60 with a step of 5:\\n\", array)"
      ],
      "metadata": {
        "colab": {
          "base_uri": "https://localhost:8080/"
        },
        "id": "Bdo1mtGwMg0s",
        "outputId": "6c591caf-38c8-4c56-fc0e-a76dea218c16"
      },
      "execution_count": 4,
      "outputs": [
        {
          "output_type": "stream",
          "name": "stdout",
          "text": [
            "Array of integers from 10 to 60 with a step of 5:\n",
            " [10 15 20 25 30 35 40 45 50 55 60]\n"
          ]
        }
      ]
    },
    {
      "cell_type": "markdown",
      "source": [
        "Question 5:"
      ],
      "metadata": {
        "id": "dDqLSQqmMiaZ"
      }
    },
    {
      "cell_type": "code",
      "source": [
        "import numpy as np\n",
        "\n",
        "# Create a NumPy array of strings\n",
        "string_array = np.array(['python', 'numpy', 'pandas'])\n",
        "\n",
        "# Apply different case transformations\n",
        "uppercase_array = np.char.upper(string_array)\n",
        "lowercase_array = np.char.lower(string_array)\n",
        "titlecase_array = np.char.title(string_array)\n",
        "\n",
        "# Print the results\n",
        "print(\"Original Array:\\n\", string_array)\n",
        "print(\"\\nUppercase Array:\\n\", uppercase_array)\n",
        "print(\"\\nLowercase Array:\\n\", lowercase_array)\n",
        "print(\"\\nTitlecase Array:\\n\", titlecase_array)"
      ],
      "metadata": {
        "colab": {
          "base_uri": "https://localhost:8080/"
        },
        "id": "rBV92TfMMlPj",
        "outputId": "4d2368dd-3b20-48b8-b00b-859d4a8d97c7"
      },
      "execution_count": 5,
      "outputs": [
        {
          "output_type": "stream",
          "name": "stdout",
          "text": [
            "Original Array:\n",
            " ['python' 'numpy' 'pandas']\n",
            "\n",
            "Uppercase Array:\n",
            " ['PYTHON' 'NUMPY' 'PANDAS']\n",
            "\n",
            "Lowercase Array:\n",
            " ['python' 'numpy' 'pandas']\n",
            "\n",
            "Titlecase Array:\n",
            " ['Python' 'Numpy' 'Pandas']\n"
          ]
        }
      ]
    },
    {
      "cell_type": "markdown",
      "source": [
        "Question 6:\n"
      ],
      "metadata": {
        "id": "Uy0Rv1MWMqeY"
      }
    },
    {
      "cell_type": "code",
      "source": [
        "import numpy as np\n",
        "\n",
        "# Create a NumPy array of words\n",
        "words_array = np.array(['hello', 'world', 'numpy', 'python'])\n",
        "\n",
        "# Insert a space between each character of every word\n",
        "spaced_words_array = np.char.join(' ', words_array)\n",
        "\n",
        "# Print the results\n",
        "print(\"Original Array of Words:\\n\", words_array)\n",
        "print(\"\\nArray with Spaces Between Characters:\\n\", spaced_words_array)"
      ],
      "metadata": {
        "colab": {
          "base_uri": "https://localhost:8080/"
        },
        "id": "Gbb388EbMtf-",
        "outputId": "f294dab1-cb5a-4d2b-8984-94637665cde2"
      },
      "execution_count": 6,
      "outputs": [
        {
          "output_type": "stream",
          "name": "stdout",
          "text": [
            "Original Array of Words:\n",
            " ['hello' 'world' 'numpy' 'python']\n",
            "\n",
            "Array with Spaces Between Characters:\n",
            " ['h e l l o' 'w o r l d' 'n u m p y' 'p y t h o n']\n"
          ]
        }
      ]
    },
    {
      "cell_type": "markdown",
      "source": [
        "Question 7:"
      ],
      "metadata": {
        "id": "QT0wEWDSMy8e"
      }
    },
    {
      "cell_type": "code",
      "source": [
        "import numpy as np\n",
        "\n",
        "# Create two 2D NumPy arrays\n",
        "array1 = np.array([[1, 2, 3],\n",
        "                   [4, 5, 6]])\n",
        "\n",
        "array2 = np.array([[7, 8, 9],\n",
        "                   [10, 11, 12]])\n",
        "\n",
        "# Perform element-wise operations\n",
        "addition_result = array1 + array2\n",
        "subtraction_result = array1 - array2\n",
        "multiplication_result = array1 * array2\n",
        "division_result = array1 / array2\n",
        "\n",
        "# Print the results\n",
        "print(\"Array 1:\\n\", array1)\n",
        "print(\"\\nArray 2:\\n\", array2)\n",
        "print(\"\\nElement-wise Addition:\\n\", addition_result)\n",
        "print(\"\\nElement-wise Subtraction:\\n\", subtraction_result)\n",
        "print(\"\\nElement-wise Multiplication:\\n\", multiplication_result)\n",
        "print(\"\\nElement-wise Division:\\n\", division_result)"
      ],
      "metadata": {
        "colab": {
          "base_uri": "https://localhost:8080/"
        },
        "id": "pKpKzJxlMxZl",
        "outputId": "89425855-0530-43ef-d931-0b734f6bb975"
      },
      "execution_count": 7,
      "outputs": [
        {
          "output_type": "stream",
          "name": "stdout",
          "text": [
            "Array 1:\n",
            " [[1 2 3]\n",
            " [4 5 6]]\n",
            "\n",
            "Array 2:\n",
            " [[ 7  8  9]\n",
            " [10 11 12]]\n",
            "\n",
            "Element-wise Addition:\n",
            " [[ 8 10 12]\n",
            " [14 16 18]]\n",
            "\n",
            "Element-wise Subtraction:\n",
            " [[-6 -6 -6]\n",
            " [-6 -6 -6]]\n",
            "\n",
            "Element-wise Multiplication:\n",
            " [[ 7 16 27]\n",
            " [40 55 72]]\n",
            "\n",
            "Element-wise Division:\n",
            " [[0.14285714 0.25       0.33333333]\n",
            " [0.4        0.45454545 0.5       ]]\n"
          ]
        }
      ]
    },
    {
      "cell_type": "markdown",
      "source": [
        "Question 8:"
      ],
      "metadata": {
        "id": "ewkjEF2EM4Nf"
      }
    },
    {
      "cell_type": "code",
      "source": [
        "import numpy as np\n",
        "\n",
        "# Create a 5x5 identity matrix\n",
        "identity_matrix = np.eye(5)\n",
        "print(\"5x5 Identity Matrix:\\n\", identity_matrix)\n",
        "\n",
        "# Extract the diagonal elements\n",
        "diagonal_elements = np.diag(identity_matrix)\n",
        "print(\"\\nDiagonal Elements:\\n\", diagonal_elements)"
      ],
      "metadata": {
        "colab": {
          "base_uri": "https://localhost:8080/"
        },
        "id": "Dp2vHwT3M8JO",
        "outputId": "7698a8fd-89bc-4954-9191-75783dc25058"
      },
      "execution_count": 9,
      "outputs": [
        {
          "output_type": "stream",
          "name": "stdout",
          "text": [
            "5x5 Identity Matrix:\n",
            " [[1. 0. 0. 0. 0.]\n",
            " [0. 1. 0. 0. 0.]\n",
            " [0. 0. 1. 0. 0.]\n",
            " [0. 0. 0. 1. 0.]\n",
            " [0. 0. 0. 0. 1.]]\n",
            "\n",
            "Diagonal Elements:\n",
            " [1. 1. 1. 1. 1.]\n"
          ]
        }
      ]
    },
    {
      "cell_type": "markdown",
      "source": [
        "Question 9"
      ],
      "metadata": {
        "id": "CG-elne6NCnB"
      }
    },
    {
      "cell_type": "code",
      "source": [
        "import numpy as np\n",
        "\n",
        "random_integers = np.random.randint(0, 1001, size=100)\n",
        "print(\"Random Integers Array:\\n\", random_integers)\n",
        "\n",
        "def is_prime(num):\n",
        "    if num <= 1:\n",
        "        return False\n",
        "    for i in range(2, int(num**0.5) + 1):\n",
        "        if num % i == 0:\n",
        "            return False\n",
        "    return True\n",
        "\n",
        "prime_numbers = [num for num in random_integers if is_prime(num)]\n",
        "\n",
        "print(\"\\nPrime Numbers in the Array:\\n\", prime_numbers)"
      ],
      "metadata": {
        "colab": {
          "base_uri": "https://localhost:8080/"
        },
        "id": "AJf8sZWyNDdt",
        "outputId": "2850bf6d-e8ee-4548-8a2c-178f266f6dcd"
      },
      "execution_count": 8,
      "outputs": [
        {
          "output_type": "stream",
          "name": "stdout",
          "text": [
            "Random Integers Array:\n",
            " [712 575 719 290 150 879 959 618 807 888 618 106  57 449 926   8 661 392\n",
            " 288 220 691 182 182 247 280 986 883 421 414 586 601 765 693 638 817 189\n",
            " 519 463 479 676 262 752  83 700 191 453 824 613 684 655 265 622 425 808\n",
            " 653 384 741 190 116 168 512 819 496  70 448 414 251 618 281  87 558 651\n",
            " 532 790  66 848 951 218 885 511  90 349 576 137 356 650 424 184 991 245\n",
            " 722 372 485 306  69 122 227 815 326 698]\n",
            "\n",
            "Prime Numbers in the Array:\n",
            " [719, 449, 661, 691, 883, 421, 601, 463, 479, 83, 191, 613, 653, 251, 281, 349, 137, 991, 227]\n"
          ]
        }
      ]
    },
    {
      "cell_type": "markdown",
      "source": [
        "Question 10:\n"
      ],
      "metadata": {
        "id": "DxYwq0RfNIq6"
      }
    },
    {
      "cell_type": "code",
      "source": [
        "import numpy as np\n",
        "\n",
        "daily_temperatures = np.random.randint(20, 36, size=30)\n",
        "print(\"Daily Temperatures for the Month:\\n\", daily_temperatures)\n",
        "\n",
        "weekly_temperatures = daily_temperatures[:28].reshape(4, 7)\n",
        "\n",
        "weekly_averages = np.mean(weekly_temperatures, axis=1)\n",
        "\n",
        "print(\"\\nWeekly Averages:\\n\", weekly_averages)"
      ],
      "metadata": {
        "colab": {
          "base_uri": "https://localhost:8080/"
        },
        "id": "LwchmgHvNKsr",
        "outputId": "30313320-853a-4a79-c6b7-cb8445984af9"
      },
      "execution_count": 10,
      "outputs": [
        {
          "output_type": "stream",
          "name": "stdout",
          "text": [
            "Daily Temperatures for the Month:\n",
            " [22 21 30 28 33 29 34 28 26 23 21 33 22 26 31 23 33 21 32 30 24 21 28 21\n",
            " 24 27 33 23 35 30]\n",
            "\n",
            "Weekly Averages:\n",
            " [28.14285714 25.57142857 27.71428571 25.28571429]\n"
          ]
        }
      ]
    },
    {
      "cell_type": "code",
      "source": [],
      "metadata": {
        "id": "IRBp_7eZNOw2"
      },
      "execution_count": null,
      "outputs": []
    }
  ]
}