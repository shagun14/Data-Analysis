{
 "cells": [
  {
   "cell_type": "markdown",
   "id": "9475fe57-16a9-45ce-8306-8b1ecdb2eca5",
   "metadata": {},
   "source": [
    "<h3>Question 1:</h3>\n",
    "\n",
    "The main difference between a function and method is the way they are called and used in a program.\n",
    "Function is defined using the def keyword and is basically a block of code that is independent and can be called by its own. It is not associated with any object.\n",
    "Whereas, method is a function that is associated with an object or a class instance. They are defined within class and require an object of the class to be called. \n",
    "\n",
    "Example with code preview:"
   ]
  },
  {
   "cell_type": "code",
   "execution_count": 4,
   "id": "0f7d877b-b556-41a7-9bf9-f8cad445ee6b",
   "metadata": {},
   "outputs": [
    {
     "name": "stdout",
     "output_type": "stream",
     "text": [
      "Welcome to the course\n",
      "Welcome to the course\n"
     ]
    }
   ],
   "source": [
    "#Function\n",
    "def func1():\n",
    "    print(\"Welcome to the course\")\n",
    "func1()\n",
    "\n",
    "\n",
    "#Method\n",
    "class class1:\n",
    "    def method1(self):\n",
    "        print(\"Welcome to the course\")\n",
    "obj = class1()\n",
    "obj.method1()\n",
    "        "
   ]
  },
  {
   "cell_type": "markdown",
   "id": "981b9e59-15fd-4829-a21c-e60646c8e017",
   "metadata": {
    "tags": []
   },
   "source": [
    "<h3>Question 2:</h3>\n",
    "\n",
    "Parameter is a variable name defined in the function or method definition. They usually act as a placeholder for the values that would be used in the function.\n",
    "Arguments are the actual values that are passed when a function is called. They are the data that are passed in a method's parameter.\n",
    "\n",
    "Example with code preview:"
   ]
  },
  {
   "cell_type": "code",
   "execution_count": 14,
   "id": "2a473ad1-09c5-48dc-b984-aaebca3bbba8",
   "metadata": {},
   "outputs": [
    {
     "name": "stdout",
     "output_type": "stream",
     "text": [
      "30\n"
     ]
    }
   ],
   "source": [
    "def add(a, b):\n",
    "    return a + b\n",
    "\n",
    "result = add(10, 20)\n",
    "print(result)\n",
    "\n",
    "#Here a, b are parameters and the values 10, 20 are the arguments"
   ]
  },
  {
   "cell_type": "markdown",
   "id": "036dc1b1-2afb-4d58-8d7e-e4cbd3d021e4",
   "metadata": {},
   "source": [
    "<h3> Question 3:</h3>\n",
    "\n",
    "Functions are defined using the <b>def</b> keyword followed by the name of the function having a parentheses() with arguments and a semicolon:\n",
    "Syntax: def function(argument1, argument2):\n",
    "\n",
    "To call a function generally function() is used to execute the line of codes present in the defined funtion.\n",
    "\n",
    "Defining a function and calling it can be of several types: Standard functions, functions with default arguments, functions with varied length of arguments, lambda functions, nested funtions and recursive functions.\n",
    "\n",
    "Some basic examples with code preview:\n"
   ]
  },
  {
   "cell_type": "code",
   "execution_count": 14,
   "id": "aaed37cb-d9cb-47bb-9e38-40261a02e63c",
   "metadata": {},
   "outputs": [
    {
     "name": "stdout",
     "output_type": "stream",
     "text": [
      "31\n",
      "Hello, Python!\n",
      "20\n"
     ]
    }
   ],
   "source": [
    "#Standard funtion\n",
    "def add(a, b):\n",
    "    return a + b\n",
    "\n",
    "result = add(28, 3)\n",
    "print(result)  \n",
    "\n",
    "#Function with default argument\n",
    "def greet(name, greetings=\"Hello\"):\n",
    "    return f\"{greetings}, {name}!\"\n",
    "print(greet(\"Python\")) \n",
    "\n",
    "#Lambda function\n",
    "add = lambda x, y: x + y\n",
    "print(add(15, 5))\n"
   ]
  },
  {
   "cell_type": "markdown",
   "id": "1ad62f73-1a9e-4280-94e0-e935194372e1",
   "metadata": {},
   "source": [
    "<h3> Question 4:</h3>\n",
    "\n",
    "'return' statement is used to provide an output from a function and control function exit. The basics purposes of the return statement are mentioned below:\n",
    "\n",
    "1. To return a value from a function: When a function reaches the return statement, it exits the function and returns a value.\n",
    "2. Exiting a function: Can also be used to exit a function before reaching the end of the function. It becomes useful when a condition is fulfilled and no processing is further required.\n",
    "3. Returning None: When a function is called without a value, it returns None. This shows that notrhing useful is returned as output\n",
    "\n",
    "Example with code preview:"
   ]
  },
  {
   "cell_type": "code",
   "execution_count": 17,
   "id": "14c7c6ff-a184-4fa4-918a-c6d6bfd80f26",
   "metadata": {},
   "outputs": [
    {
     "name": "stdout",
     "output_type": "stream",
     "text": [
      "3\n",
      "True\n",
      "False\n",
      "Welcome Python\n",
      "None\n"
     ]
    }
   ],
   "source": [
    "#Returning Value:\n",
    "def subtract(a, b):\n",
    "    return a - b\n",
    "result = subtract(5, 2)\n",
    "print(result)\n",
    "\n",
    "\n",
    "#Exiting Early:\n",
    "def even_num(num):\n",
    "    if num % 2 == 0:\n",
    "        return True # Exiting early if condition is met\n",
    "    return False\n",
    "print(even_num(2))\n",
    "print(even_num(5))\n",
    "\n",
    "#Returning None:\n",
    "def greetings(name):\n",
    "    print(\"Welcome\", name)\n",
    "result = greetings(\"Python\")\n",
    "print(result)"
   ]
  },
  {
   "cell_type": "markdown",
   "id": "e313981f-7491-4ff2-9c45-e6d70752066c",
   "metadata": {},
   "source": [
    "<h3> Question 5:</h3>\n",
    "\n",
    "An iterator is an object that returns an element at a time when a function is called on it. Whereas an iterable is any object that can looped over or iterated like lists, tuples, strings, dictionaries, etc. \n",
    "\n",
    "iter() : Returns the iterator object itself\n",
    "next(): Retruns the next element in the sequence.\n",
    "\n",
    "Example with code preview:"
   ]
  },
  {
   "cell_type": "code",
   "execution_count": 20,
   "id": "7e27cbf7-bc46-4298-af71-1575c77436f2",
   "metadata": {},
   "outputs": [
    {
     "name": "stdout",
     "output_type": "stream",
     "text": [
      "Iterable 10\n",
      "Iterable 20\n",
      "Iterable 30\n",
      "Iterable 40\n",
      "Iterable 50\n",
      "An Iterator 10\n",
      "An Iterator 20\n",
      "An Iterator 30\n",
      "An Iterator 40\n",
      "An Iterator 50\n"
     ]
    }
   ],
   "source": [
    "#Iterable:\n",
    "list1 = [10, 20, 30, 40, 50]\n",
    "\n",
    "for num in list1:\n",
    "    print(\"Iterable\", num)\n",
    "    \n",
    "#An Iterator\n",
    "list1 = [10, 20, 30, 40, 50]\n",
    "iter_list = iter(list1)\n",
    "print(\"An Iterator\", next(iter_list))\n",
    "print(\"An Iterator\", next(iter_list))\n",
    "print(\"An Iterator\", next(iter_list))\n",
    "print(\"An Iterator\", next(iter_list))\n",
    "print(\"An Iterator\", next(iter_list))"
   ]
  },
  {
   "cell_type": "markdown",
   "id": "5c041dac-9016-467b-8a46-7b6e134f22be",
   "metadata": {},
   "source": [
    "<h3>Question 6:</h3>\n",
    "\n",
    "Generators allow to create an iterator in a simple, concise way. Unlike regular functions that return a single value using the return statement, generators use the yield keywors to return multiple values, one at a time and pause the state between each value.\n",
    "Main concepts of generators are:\n",
    "1. Lazy evaluation as it gives items only when requested, making it memory efficent for large data.\n",
    "2. Implement the iterator protocol and are iterated using next() or in a loop.\n",
    "3. A generator preserves the state between each call. Each time a value is yielded, the function execution pauses and resumes from the same position.\n",
    "\n",
    "Generators are defined like general functions, but instead of return statement they use yield to give output\n",
    "\n",
    "Example with code preview:"
   ]
  },
  {
   "cell_type": "code",
   "execution_count": 21,
   "id": "0d0c66e4-3d6d-4a41-b316-6345f2f85bc9",
   "metadata": {},
   "outputs": [
    {
     "name": "stdout",
     "output_type": "stream",
     "text": [
      "5\n",
      "4\n",
      "3\n"
     ]
    }
   ],
   "source": [
    "def num(n):\n",
    "    while n> 0:\n",
    "        yield n #Gives the current value and pauses\n",
    "        n -= 1\n",
    "result = num(5)\n",
    "\n",
    "print(next(result))\n",
    "print(next(result))\n",
    "print(next(result))"
   ]
  },
  {
   "cell_type": "markdown",
   "id": "56ad232a-d5a6-4f9e-b873-d779cb6f89ed",
   "metadata": {},
   "source": [
    "<h3> Question 7:</h3>\n",
    "\n",
    "Generators have several advantages over regular functions when dealing with large datasets. \n",
    "1. Lazy Evaluation: Generators provide values only when requested and computation happens when necessary that makes it memory efficient. Regular functions compute the entire result before returning any value and that becomes inefficient when only single value is required.\n",
    "2. Memory Efficient: Generators don't store all the values in memory like lists or other data structures. Whereas regular functions return all the values at once consuming more memory. \n",
    "3. Performance: Generators are faster than functions as they avoid storing entire collections. Regular functions can be slow for large datasets.\n",
    "4. Readibility: Generators make the code cleaner and easier to read. Using yield statement makes it more concise and easier to follow. "
   ]
  },
  {
   "cell_type": "markdown",
   "id": "5e28176d-429b-49e4-b3e1-92f7a203655e",
   "metadata": {},
   "source": [
    "<h3>Question 8:</h3>\n",
    "\n",
    "A lambda function is defined using lambda keyword. Unlike other functions, lambda functions are written in a single line and can take any number of arguments but has only one expression.<br> They are usually used in cases where simple single line function can be used and there's no specific need to define a separate named function using def. Commonly used lambda functions are map(), filter(), sorted().\n",
    "<br><br>Syntax:\n",
    "<br>lambda arguments:expression\n",
    "\n",
    "Example with code preview:\n"
   ]
  },
  {
   "cell_type": "code",
   "execution_count": 1,
   "id": "7512b1b2-9e13-4cec-bf23-e340f5d3a7dc",
   "metadata": {},
   "outputs": [
    {
     "name": "stdout",
     "output_type": "stream",
     "text": [
      "30\n"
     ]
    }
   ],
   "source": [
    "lambda_sum = lambda x, y: x + y\n",
    "print(lambda_sum(10, 20))"
   ]
  },
  {
   "cell_type": "markdown",
   "id": "7af537e2-27e9-48d2-805a-0d8860c133bd",
   "metadata": {},
   "source": [
    "<h3> Question 9:</h3>\n",
    "\n",
    "The map() function is used to apply a specific function to each item of an iterable like a list or tuple, and return an iterator with the results. <br>The function follows the key property of lazy evaluation and is only applied when result is requested, making the transformation efficient. To get the results we need to convert the iterator to a collection type like a list, or tuple.<br>\n",
    "<br>Syntax:\n",
    "<br>map(function, iterable)\n",
    "\n",
    "Example with code preview:\n"
   ]
  },
  {
   "cell_type": "code",
   "execution_count": 1,
   "id": "bf2f0d78-c234-4299-b114-46be5b457b4b",
   "metadata": {},
   "outputs": [
    {
     "name": "stdout",
     "output_type": "stream",
     "text": [
      "[3, 6, 9, 12, 15]\n"
     ]
    }
   ],
   "source": [
    "def multiply(x):\n",
    "    return x * 3\n",
    "\n",
    "num = [1, 2, 3, 4, 5]\n",
    "result = map(multiply, num)\n",
    "\n",
    "print(list(result))"
   ]
  },
  {
   "cell_type": "markdown",
   "id": "47d5b85a-b3e5-4e1d-9622-c28f6bc108e3",
   "metadata": {},
   "source": [
    "<h3> Question 10:</h3>\n",
    "\n",
    "map(), reduce(), filter() all these functions operate on iterables and apply a function to their elements but their purpose and behaviour is different.\n",
    "\n",
    "1. map():\n",
    "It applies a given function to every item of an iterable and returns an iterator with the evaluated results.\n",
    "Is used when we need to apply same transformation or operation on every element in an iterable.\n",
    "\n",
    "2. reduce():\n",
    "It applies a given function to the items of an iterable and reduces the iterable to a single value. It takes first two values in consideration applies a function, takes the result and applies similarly to the next. It reduces an iterable to a single cumulative value by applying the function cumulatively.\n",
    "\n",
    "3. filter():\n",
    "It applies boolean function to each item of an iterable and filters out items that don't meet the conditions. It returns an iterator with the elements that have passed the condition. Its generally used where a subset selection of items is needed.\n",
    "\n",
    "Example with code preview:"
   ]
  },
  {
   "cell_type": "code",
   "execution_count": 10,
   "id": "edebe3d5-7798-4ef8-be3b-ce1ef66a0a28",
   "metadata": {},
   "outputs": [
    {
     "name": "stdout",
     "output_type": "stream",
     "text": [
      "[1, 4, 9, 16, 25]\n",
      "15\n",
      "[1, 3, 5]\n"
     ]
    }
   ],
   "source": [
    "#map() function:\n",
    "num = [1, 2, 3, 4, 5]\n",
    "square = map(lambda x: x**2, num)\n",
    "print(list(square))\n",
    "\n",
    "#reduce() function:\n",
    "from functools import reduce\n",
    "num = [1, 2, 3, 4, 5]\n",
    "add = reduce(lambda a, b: a + b, num)\n",
    "print(add)\n",
    "\n",
    "#filter() function\n",
    "num = [1, 2, 3, 4, 5]\n",
    "odd = filter(lambda x: x % 2 != 0, num)\n",
    "print(list(odd))"
   ]
  },
  {
   "cell_type": "markdown",
   "id": "a8f2d275-7437-4ef4-8107-deb68827fa76",
   "metadata": {},
   "source": [
    "<h3> Question 11:</h3>\n",
    "Please refer the image ans11.jpeg"
   ]
  },
  {
   "cell_type": "code",
   "execution_count": 17,
   "id": "1fefb9f5-0d28-4737-8640-e34d334f1f15",
   "metadata": {},
   "outputs": [
    {
     "name": "stdout",
     "output_type": "stream",
     "text": [
      "113\n"
     ]
    }
   ],
   "source": [
    "from functools import reduce\n",
    "list1 = [47, 11, 42, 13]\n",
    "add = reduce(lambda x, y: x + y, list1)\n",
    "print(add)"
   ]
  },
  {
   "cell_type": "code",
   "execution_count": null,
   "id": "3803ee58-1c21-4694-96bf-505409873629",
   "metadata": {},
   "outputs": [],
   "source": []
  }
 ],
 "metadata": {
  "kernelspec": {
   "display_name": "Python 3 (ipykernel)",
   "language": "python",
   "name": "python3"
  },
  "language_info": {
   "codemirror_mode": {
    "name": "ipython",
    "version": 3
   },
   "file_extension": ".py",
   "mimetype": "text/x-python",
   "name": "python",
   "nbconvert_exporter": "python",
   "pygments_lexer": "ipython3",
   "version": "3.10.8"
  }
 },
 "nbformat": 4,
 "nbformat_minor": 5
}
