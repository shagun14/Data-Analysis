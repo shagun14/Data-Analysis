{
  "nbformat": 4,
  "nbformat_minor": 0,
  "metadata": {
    "colab": {
      "provenance": [],
      "authorship_tag": "ABX9TyPJ/wVGRFN5TOuP9HBEj0X0"
    },
    "kernelspec": {
      "name": "python3",
      "display_name": "Python 3"
    },
    "language_info": {
      "name": "python"
    }
  },
  "cells": [
    {
      "cell_type": "code",
      "execution_count": null,
      "metadata": {
        "id": "BVQCDSbI-F4a"
      },
      "outputs": [],
      "source": []
    },
    {
      "cell_type": "markdown",
      "source": [
        "<h4>Question 1</h4>\n",
        "The five key concepts of object oriented programming are:<br>\n",
        "1. Encapsulation: Bundling the data and the methods that perform operations on data into a single unit i.e., class.<br>\n",
        "2. Inheritance: A new class can inherit attributes and methods from an existing class. Helps to reuse code.<br>\n",
        "3. Polymorphism: Ability of classes to be treated as instances of the same class, using overriding methods.<br>\n",
        "4. Class: Collection of objects that defines a set of attributes and methods that the created methods will have.<br>\n",
        "5. Object: An instance of class. They are created using the class definition and can access the class's attributes and methods."
      ],
      "metadata": {
        "id": "M3CPKIeA-PNa"
      }
    },
    {
      "cell_type": "markdown",
      "source": [
        "<h4>Question 2<h4>\n",
        "\n"
      ],
      "metadata": {
        "id": "9JdWnPqn-1fc"
      }
    },
    {
      "cell_type": "code",
      "source": [
        "class Car:\n",
        "  def __init__(self, make, model, year):\n",
        "    self.make = make\n",
        "    self.model = model\n",
        "    self.year = year\n",
        "\n",
        "  def get_info(self):\n",
        "    print(\"Car Information:\\nModel:\", self.model, \"\\nYear:\" , self.year, \"\\nMake:\" , self.make)\n",
        "\n",
        "my_car = Car(\"Honda\", \"Taxi\", 2024)\n",
        "my_car.get_info()"
      ],
      "metadata": {
        "colab": {
          "base_uri": "https://localhost:8080/"
        },
        "id": "-W0-Aaab-93j",
        "outputId": "b5c76aa5-2f94-4939-fa15-49bb2831f0bd"
      },
      "execution_count": 11,
      "outputs": [
        {
          "output_type": "stream",
          "name": "stdout",
          "text": [
            "Car Information:\n",
            "Model: Taxi \n",
            "Year: 2024 \n",
            "Make: Honda\n"
          ]
        }
      ]
    },
    {
      "cell_type": "markdown",
      "source": [
        "<h4>Question 3</h3>\n",
        "Difference between instance methods and class methods:\n",
        "\n",
        "<b>Instance Methods:</b><br>\n",
        "Binding: They are bound to an instance of the class. They are able to access and modify instance's attributes and class-level attributes.<br>\n",
        "First Parameter: The first parameter represents the instance of the class and it is always <b>self.</b><br>\n",
        "Usage: Used while working with object-specific data. They can access and modify attributes that are specific to the object.<br>\n",
        "Decorator: They do not need any special decorator.<br>\n",
        "<br>\n",
        "<b>Class Methods:</b></br>\n",
        "Binding: They are bound to the class itself. They can only modify class-v\\level data.<br>\n",
        "First Parameter: The first parameter represents the class itself and it is <b>cls.</b><br>\n",
        "Usage: Used for operations that are related to class.<br>\n",
        "Decorator: They are defined using the @classmethod decorator.<br>\n",
        "\n",
        "Example with code preview:\n"
      ],
      "metadata": {
        "id": "drXrj9bTYFV7"
      }
    },
    {
      "cell_type": "code",
      "source": [
        "#Example of instance method:\n",
        "class Car:\n",
        "  def __init__(self, make, model, year):\n",
        "    self.make = make\n",
        "    self.model = model\n",
        "    self.year = year\n",
        "\n",
        "  def get_info(self):      #Instance method\n",
        "    print(\"Car Information:\\nModel:\", self.model, \"\\nYear:\" , self.year, \"\\nMake:\" , self.make)\n",
        "\n",
        "my_car = Car(\"Honda\", \"Taxi\", 2024) #Instance of the Car\n",
        "my_car.get_info() #Calling the instance method"
      ],
      "metadata": {
        "colab": {
          "base_uri": "https://localhost:8080/"
        },
        "id": "wWVMM3ZsZ5os",
        "outputId": "adf6ff57-4719-4f80-e88e-9538a5232187"
      },
      "execution_count": 1,
      "outputs": [
        {
          "output_type": "stream",
          "name": "stdout",
          "text": [
            "Car Information:\n",
            "Model: Taxi \n",
            "Year: 2024 \n",
            "Make: Honda\n"
          ]
        }
      ]
    },
    {
      "cell_type": "code",
      "source": [
        "#Example of class method:\n",
        "class Car:\n",
        "  car_count = 0 #class level attribute\n",
        "  def __init__(self, make, model, year):\n",
        "    self.make = make\n",
        "    self.model = model\n",
        "    self.year = year\n",
        "    Car.car_count += 1\n",
        "\n",
        "  @classmethod\n",
        "  def totalcars(cls):\n",
        "    print(\"Total Cars:\", cls.car_count)\n",
        "\n",
        "#Instances of the Car\n",
        "car1 = Car(\"Honda\", \"Taxi\", 2024)\n",
        "car2 = Car(\"Hyundai\", \"Taxi\", 2020)\n",
        "car3 = Car(\"Tata\", \"Taxi\", 2018)\n",
        "\n",
        "Car.totalcars() #Calling the class method\n"
      ],
      "metadata": {
        "colab": {
          "base_uri": "https://localhost:8080/"
        },
        "id": "335CVYLgaMtg",
        "outputId": "020615ff-11fc-42c5-a282-a905d1a3b6bd"
      },
      "execution_count": 5,
      "outputs": [
        {
          "output_type": "stream",
          "name": "stdout",
          "text": [
            "Total Cars: 3\n"
          ]
        }
      ]
    },
    {
      "cell_type": "markdown",
      "source": [
        "<h4>Question 4</h4>\n",
        "Python doesn't method overloading like done in other languages such as C++ or Java. In Python we cannot define multiple methods with the same name. In Python method overloading can be done using default arguments and variable length arguments.<br>\n",
        "<br>\n",
        "Example with code preview:"
      ],
      "metadata": {
        "id": "2A2CiRbybWoL"
      }
    },
    {
      "cell_type": "code",
      "source": [
        "#Default arguments:\n",
        "class calc:\n",
        "  def add(self, a, b=0, c=0):\n",
        "    return a + b + c\n",
        "\n",
        "calculate = calc() #Instance of calc\n",
        "\n",
        "#Calling methods with different number of arguments\n",
        "print(calculate.add(5))\n",
        "print(calculate.add(10, 20))\n",
        "print(calculate.add(3,2,5))"
      ],
      "metadata": {
        "colab": {
          "base_uri": "https://localhost:8080/"
        },
        "id": "_2xIqk2PcYbe",
        "outputId": "2cdd498a-b6fd-49b9-82d0-f1fc80ea9bba"
      },
      "execution_count": 8,
      "outputs": [
        {
          "output_type": "stream",
          "name": "stdout",
          "text": [
            "5\n",
            "30\n",
            "10\n"
          ]
        }
      ]
    },
    {
      "cell_type": "code",
      "source": [
        "#Variable length arguments:\n",
        "class calc:\n",
        "  def add(self, *args):\n",
        "    return sum(args)\n",
        "\n",
        "calculate = calc() #Instance of calc\n",
        "\n",
        "#Calling methods with different number of arguments\n",
        "print(calculate.add(5))\n",
        "print(calculate.add(10, 20))\n",
        "print(calculate.add(3,2,5))\n",
        "print(calculate.add(3,2,5,100))"
      ],
      "metadata": {
        "colab": {
          "base_uri": "https://localhost:8080/"
        },
        "id": "2VNE60PxcxLs",
        "outputId": "795fa5c0-8dcd-4fd1-c94e-e5b10a307947"
      },
      "execution_count": 10,
      "outputs": [
        {
          "output_type": "stream",
          "name": "stdout",
          "text": [
            "5\n",
            "30\n",
            "10\n",
            "110\n"
          ]
        }
      ]
    },
    {
      "cell_type": "markdown",
      "source": [
        "<h4>Question 5</h4>\n",
        "Access modifiers control the accessibility of the class members, attributes and methods. The three types of access modifiers are: public, private and protected.<br>\n",
        "<br>\n",
        "<b>Public:</b><br>\n",
        "Public methods are accessed directly by the class from anywhere, both inside and outside the class.<br>\n",
        "Denoted by: By default all members are public. They don't need any special prefix.<br>\n",
        "<b>Private:</b><br>\n",
        "Private methods and fields can only be accessed within the same class and not visible outside the class.<br>\n",
        "Denoted by: They are denoted by double underscore (__) before the member name.<br>\n",
        "<b>Protected:</b><br>\n",
        "Protected methods and fields can be accessed within the same class it is declared and its subclass.<br>\n",
        "Denoted by: They are denoted by single underscore (_) before the member name."
      ],
      "metadata": {
        "id": "TTJya-xee2Pg"
      }
    },
    {
      "cell_type": "markdown",
      "source": [
        "<h4>Question 6</h4>\n",
        "The five types of the inheritance are:<br>\n",
        "<b>Single Inheritance:</b> The basic form of the inheritance where a child class derives from one parent class. In this type, a class inherits from one single parent class.<br>\n",
        "<b>Multiple Inheritance:</b>In this inheritance, a class inherits from more than one parent class. The child class has the properties and methods from all the parent classes.<br>\n",
        "<b>Multilevel Inheritance:</b>In this inheritance, a class inherits from a parent class, which has already inherited from another class. This is like a chain of inheritance.<br>\n",
        "<b>Hierarchical Inheritance:</b>In this inheritance, multiple child classes inherit from the same parent class. Each class has its own properties but they all share the attributes of the parent class.<br>\n",
        "<b>Hybrid Inheritance:</b>It is a combination of multiple inheritance patterns. Like, it can have both hierarchical amd multiple inheritance.<br>\n",
        "<br>\n",
        "Example of Multiple Inheritance:"
      ],
      "metadata": {
        "id": "zz48qlfTjpeo"
      }
    },
    {
      "cell_type": "code",
      "source": [
        "class engine:\n",
        "  def start(self):\n",
        "    print(\"Engine started.\")\n",
        "\n",
        "class wheels:\n",
        "  def roll(self):\n",
        "    print(\"Wheels rolling.\")\n",
        "\n",
        "class car(engine, wheels):\n",
        "  def drive(self):\n",
        "    print(\"Car is driving.\")\n",
        "\n",
        "my_car = car()\n",
        "my_car.start()\n",
        "my_car.roll()\n",
        "my_car.drive()"
      ],
      "metadata": {
        "colab": {
          "base_uri": "https://localhost:8080/"
        },
        "id": "18lQgr9WdQfA",
        "outputId": "d85ca377-679c-42eb-b7b6-526bc088c842"
      },
      "execution_count": 15,
      "outputs": [
        {
          "output_type": "stream",
          "name": "stdout",
          "text": [
            "Engine started.\n",
            "Wheels rolling.\n",
            "Car is driving.\n"
          ]
        }
      ]
    },
    {
      "cell_type": "markdown",
      "source": [
        "<h4>Question 7</h4>\n",
        "Method Resolution Order defines the order in which methods are inherited in the presence of multiple inheritance. It is the order in which the code looks for a method or attributes in the class hierarchy.<br>\n",
        "Firstly the method or attribute is searched within a class and then it proceeds with the order that it is specified while inheriting. Linearization algorithm is used to derive the method resoltuion order of the class.<br>\n",
        "MRO ensures that the method of the closest class is executed first.<br>\n",
        "\n",
        "MRO can be retrieved in two ways:<br>\n",
        "1. using the built-in __mro__ attribute.<br>\n",
        "2. using the mro() method.\n",
        "<br>\n",
        "<br>Example with code preview:\n"
      ],
      "metadata": {
        "id": "ebv3UPUsm9Pc"
      }
    },
    {
      "cell_type": "code",
      "source": [
        "class a:\n",
        "  def display(self):\n",
        "    print(\"Method A\")\n",
        "\n",
        "class b(a):\n",
        "  def display(self):\n",
        "    print(\"Method B\")\n",
        "\n",
        "class c(a):\n",
        "  def display(self):\n",
        "    print(\"Method C\")\n",
        "\n",
        "class d(b, c):\n",
        "  pass\n",
        "\n",
        "print(d.__mro__)\n",
        "print(d.mro())\n",
        "\n",
        ""
      ],
      "metadata": {
        "colab": {
          "base_uri": "https://localhost:8080/"
        },
        "id": "56R5QDbmmUzU",
        "outputId": "79e3d328-0dfd-41f0-c3f0-ece3cfea1326"
      },
      "execution_count": 17,
      "outputs": [
        {
          "output_type": "stream",
          "name": "stdout",
          "text": [
            "(<class '__main__.d'>, <class '__main__.b'>, <class '__main__.c'>, <class '__main__.a'>, <class 'object'>)\n",
            "[<class '__main__.d'>, <class '__main__.b'>, <class '__main__.c'>, <class '__main__.a'>, <class 'object'>]\n"
          ]
        }
      ]
    },
    {
      "cell_type": "markdown",
      "source": [
        "<h4>Question 8</h4>\n",
        "Example with code preview:"
      ],
      "metadata": {
        "id": "rX9krmxfpc7h"
      }
    },
    {
      "cell_type": "code",
      "source": [
        "from abc import ABC, abstractmethod\n",
        "import math\n",
        "\n",
        "class Shape(ABC):\n",
        "\n",
        "    @abstractmethod\n",
        "    def area(self):\n",
        "      pass\n",
        "\n",
        "class Circle(Shape):\n",
        "    def __init__(self, radius):\n",
        "      self.radius = radius\n",
        "\n",
        "    def area(self):\n",
        "     return math.pi*(self.radius **2)\n",
        "\n",
        "class Rectangle(Shape):\n",
        "    def __init__(self, width, height):\n",
        "      self.width = width\n",
        "      self.height = height\n",
        "\n",
        "    def area(self):\n",
        "      return self.width * self.height\n",
        "\n",
        "circ = Circle(5)\n",
        "rect = Rectangle(10, 20)\n",
        "\n",
        "print(\"Area of circle:\", circ.area())\n",
        "print(\"Area of rectangle:\", rect.area())\n"
      ],
      "metadata": {
        "colab": {
          "base_uri": "https://localhost:8080/"
        },
        "id": "la63ZQH2pBFS",
        "outputId": "78ec8493-35fe-45f5-a586-edd22d1fa0b6"
      },
      "execution_count": 6,
      "outputs": [
        {
          "output_type": "stream",
          "name": "stdout",
          "text": [
            "Area of circle: 78.53981633974483\n",
            "Area of rectangle: 200\n"
          ]
        }
      ]
    },
    {
      "cell_type": "markdown",
      "source": [
        "<h4>Question 9</h4>\n",
        "Polymorphism allows to use a unified interface to interact with different data types. The example code below demonstrates polymorphism through shape objects to calculate and print their areas."
      ],
      "metadata": {
        "id": "45N3kDFfUiug"
      }
    },
    {
      "cell_type": "code",
      "source": [
        "import math\n",
        "\n",
        "class shape:\n",
        "    def area(self):\n",
        "        raise NotImplementedError(\"Subclasses must implement this method\")\n",
        "\n",
        "class circle(shape):\n",
        "    def __init__(self, radius):\n",
        "        self.radius = radius\n",
        "\n",
        "    def area(self):\n",
        "        return math.pi * (self.radius ** 2)\n",
        "\n",
        "class rectangle(shape):\n",
        "    def __init__(self, width, height):\n",
        "        self.width = width\n",
        "        self.height = height\n",
        "\n",
        "    def area(self):\n",
        "        return self.width * self.height\n",
        "\n",
        "class triangle(shape):\n",
        "    def __init__(self, base, height):\n",
        "        self.base = base\n",
        "        self.height = height\n",
        "\n",
        "    def area(self):\n",
        "        return 0.5 * self.base * self.height\n",
        "\n",
        "def print_area(shape):\n",
        "    print(\"Area of shape:\", shape.area())\n",
        "\n",
        "# Creating instances of each shape\n",
        "circ = circle(radius=2)\n",
        "rect = rectangle(width=4, height=6)\n",
        "tri = triangle(base=3, height=4)\n",
        "\n",
        "# Use the print_area function to define polymorphism\n",
        "print_area(circ)\n",
        "print_area(rect)\n",
        "print_area(tri)"
      ],
      "metadata": {
        "colab": {
          "base_uri": "https://localhost:8080/"
        },
        "id": "PQH5_tw3UQis",
        "outputId": "46c40a08-10f9-47ee-c997-eccb3b444897"
      },
      "execution_count": 11,
      "outputs": [
        {
          "output_type": "stream",
          "name": "stdout",
          "text": [
            "Area of shape: 12.566370614359172\n",
            "Area of shape: 24\n",
            "Area of shape: 6.0\n"
          ]
        }
      ]
    },
    {
      "cell_type": "markdown",
      "source": [
        "<h4>Question 10</h4>\n",
        "When you create an instance of BankAccount and call its methods, it encapsulates the internal state and only exposes methods that allow for safe manipulation of that state. This protects the integrity of the balance and account number.<br>\n",
        "Code preview:"
      ],
      "metadata": {
        "id": "YaO4PIbWWHaT"
      }
    },
    {
      "cell_type": "code",
      "source": [
        "class BankAccount:\n",
        "    def __init__(self, account_number, initial_balance=0):\n",
        "        self.__account_number = account_number  #Private attribute\n",
        "        self.__balance = initial_balance          #Private attribute\n",
        "\n",
        "    def deposit(self, amount):\n",
        "        if amount > 0:\n",
        "            self.__balance += amount\n",
        "            print(\"Deposited Amount:\",amount, \"New balance:\", self.__balance)\n",
        "        else:\n",
        "            print(\"Deposit amount must be positive.\")\n",
        "\n",
        "    def withdraw(self, amount):\n",
        "        if 0 < amount <= self.__balance:\n",
        "            self.__balance -= amount\n",
        "            print(f\"Withdrawl Amount:\",amount, \"New balance:\", self.__balance)\n",
        "        elif amount > self.__balance:\n",
        "            print(\"Insufficient funds.\")\n",
        "        else:\n",
        "            print(\"Withdrawal amount must be positive.\")\n",
        "\n",
        "    def get_balance(self):\n",
        "        return self.__balance\n",
        "\n",
        "    def get_account_number(self):\n",
        "        return self.__account_number\n",
        "\n",
        "#Usage\n",
        "if __name__ == \"__main__\":\n",
        "    account = BankAccount(account_number=\"3456718937\", initial_balance=100.00)\n",
        "\n",
        "    account.deposit(50000)\n",
        "    account.withdraw(3000)\n",
        "    print(\"Account Number:\",account.get_account_number(), \"Balance:\", account.get_balance())\n",
        "\n",
        "    account.withdraw(1500)\n",
        "    account.deposit(-10)\n"
      ],
      "metadata": {
        "colab": {
          "base_uri": "https://localhost:8080/"
        },
        "id": "xu9nSrhZVrDw",
        "outputId": "a940e86f-0c9b-43d6-f8b8-b5ab65d82ede"
      },
      "execution_count": 17,
      "outputs": [
        {
          "output_type": "stream",
          "name": "stdout",
          "text": [
            "Deposited Amount: 50000 New balance: 50100.0\n",
            "Withdrawl Amount: 3000 New balance: 47100.0\n",
            "Account Number: 3456718937 Balance: 47100.0\n",
            "Withdrawl Amount: 1500 New balance: 45600.0\n",
            "Deposit amount must be positive.\n"
          ]
        }
      ]
    },
    {
      "cell_type": "markdown",
      "source": [
        "<H4>Question 11</h4>\n",
        "<p>__str__ Method:</p>\n",
        "\n",
        "This method is called when you use print() on an instance of the class or when you convert it to a string.\n",
        "In our example, print(v1) outputs Vector(2, 3), providing a clear representation of the vector's components.<br>\n",
        "<br>\n",
        "\n",
        "<p>__add__ Method:</p>\n",
        "\n",
        "This method allows you to use the + operator to add two instances of the class together.\n",
        "In our example, v1 + v2 creates a new Vector instance with components (6, 8).\n",
        "If other is not a Vector, it returns NotImplemented, allowing Python to handle the operation appropriately.<br>\n",
        "Code preview:"
      ],
      "metadata": {
        "id": "mFZm1hsbaN7k"
      }
    },
    {
      "cell_type": "code",
      "source": [
        "class Vector:\n",
        "    def __init__(self, x, y):\n",
        "        self.x = x\n",
        "        self.y = y\n",
        "\n",
        "    def __str__(self):\n",
        "        return f\"Vector({self.x}, {self.y})\"\n",
        "\n",
        "    def __add__(self, other):\n",
        "        if isinstance(other, Vector):\n",
        "            return Vector(self.x + other.x, self.y + other.y)\n",
        "        return NotImplemented\n",
        "\n",
        "# Example usage:\n",
        "if __name__ == \"__main__\":\n",
        "    v1 = Vector(2, 3)\n",
        "    v2 = Vector(4, 5)\n",
        "\n",
        "    print(v1)\n",
        "    print(v2)\n",
        "\n",
        "    v3 = v1 + v2\n",
        "    print(v3)"
      ],
      "metadata": {
        "colab": {
          "base_uri": "https://localhost:8080/"
        },
        "id": "L2vMOgGPZPe9",
        "outputId": "84badfae-4939-4d61-bce3-4e632648400f"
      },
      "execution_count": 22,
      "outputs": [
        {
          "output_type": "stream",
          "name": "stdout",
          "text": [
            "Vector(2, 3)\n",
            "Vector(4, 5)\n",
            "Vector(6, 8)\n"
          ]
        }
      ]
    },
    {
      "cell_type": "markdown",
      "source": [
        "<h4>Question 12</h4>\n",
        "This decorator can be reused for any function where you want to measure the execution time, making it a handy tool for performance analysis.<br>\n",
        "Code preview:"
      ],
      "metadata": {
        "id": "vnybOUvgbWSC"
      }
    },
    {
      "cell_type": "code",
      "source": [
        "import time\n",
        "\n",
        "def time_it(func):\n",
        "    def wrapper(*args, **kwargs):\n",
        "        start_time = time.time()  # Record the start time\n",
        "        result = func(*args, **kwargs)  # Call the original function\n",
        "        end_time = time.time()  # Record the end time\n",
        "        execution_time = end_time - start_time  # Calculate the execution time\n",
        "        print(f\"Execution time of {func.__name__}: {execution_time:.6f} seconds\")\n",
        "        return result  # Return the result of the original function\n",
        "    return wrapper\n",
        "\n",
        "# Example usage:\n",
        "@time_it\n",
        "def example_function(n):\n",
        "    total = 0\n",
        "    for i in range(n):\n",
        "        total += i\n",
        "    return total\n",
        "\n",
        "if __name__ == \"__main__\":\n",
        "    result = example_function(1000000)\n",
        "    print(f\"Result: {result}\")"
      ],
      "metadata": {
        "colab": {
          "base_uri": "https://localhost:8080/"
        },
        "id": "yR3r13GPafx0",
        "outputId": "17effa8e-3866-4318-9cd4-4c49dd1af55d"
      },
      "execution_count": 23,
      "outputs": [
        {
          "output_type": "stream",
          "name": "stdout",
          "text": [
            "Execution time of example_function: 0.077556 seconds\n",
            "Result: 499999500000\n"
          ]
        }
      ]
    },
    {
      "cell_type": "markdown",
      "source": [
        "<h4>Question 13</h4>\n",
        "In object-oriented programming, the Diamond Problem is a typical challenge that emerges in scenarios involving multiple inheritance. It arises when a class inherits from two classes, both of which inherit from a shared superclass, resulting in a diamond-shaped inheritance structure. This structure can cause confusion about which superclass's method or attribute to utilize.<br>\n",
        "Handling diamond problem using Python:\n"
      ],
      "metadata": {
        "id": "LX4lC1QEb091"
      }
    },
    {
      "cell_type": "code",
      "source": [
        "class A:\n",
        "    def foo(self):\n",
        "        print(\"Method from A\")\n",
        "\n",
        "class B(A):\n",
        "    def foo(self):\n",
        "        print(\"Method from B\")\n",
        "\n",
        "class C(A):\n",
        "    def foo(self):\n",
        "        print(\"Method from C\")\n",
        "\n",
        "class D(B, C):\n",
        "    pass\n",
        "\n",
        "# Create an instance of D\n",
        "d = D()\n",
        "d.foo()"
      ],
      "metadata": {
        "colab": {
          "base_uri": "https://localhost:8080/"
        },
        "id": "NFbtWDNVbiwD",
        "outputId": "ab2649f0-cc5a-4a16-9314-0e15761f4fb4"
      },
      "execution_count": 24,
      "outputs": [
        {
          "output_type": "stream",
          "name": "stdout",
          "text": [
            "Method from B\n"
          ]
        }
      ]
    },
    {
      "cell_type": "markdown",
      "source": [
        "<h4>Question 14</h4>\n",
        "Code Preview:"
      ],
      "metadata": {
        "id": "Rl28i1-3cekY"
      }
    },
    {
      "cell_type": "code",
      "source": [
        "class InstanceCounter:\n",
        "    # Class variable to keep track of the number of instances\n",
        "    instance_count = 0\n",
        "\n",
        "    def __init__(self):\n",
        "        # Increment the instance count every time a new instance is created\n",
        "        InstanceCounter.instance_count += 1\n",
        "\n",
        "    @classmethod\n",
        "    def get_instance_count(cls):\n",
        "       #Class method to return the number of instances created.\n",
        "        return cls.instance_count\n",
        "\n",
        "# Example usage:\n",
        "if __name__ == \"__main__\":\n",
        "    obj1 = InstanceCounter()\n",
        "    obj2 = InstanceCounter()\n",
        "    obj3 = InstanceCounter()\n",
        "    obj4 = InstanceCounter()\n",
        "    obj5 = InstanceCounter()\n",
        "\n",
        "    print(\"Number of instances created:\",InstanceCounter.get_instance_count())"
      ],
      "metadata": {
        "colab": {
          "base_uri": "https://localhost:8080/"
        },
        "id": "jMdEI5XDcPxw",
        "outputId": "d3c06519-ad3b-40d0-e900-954c78cb72fd"
      },
      "execution_count": 26,
      "outputs": [
        {
          "output_type": "stream",
          "name": "stdout",
          "text": [
            "Number of instances created: 5\n"
          ]
        }
      ]
    },
    {
      "cell_type": "markdown",
      "source": [
        "<h4>Question 15</h4>\n",
        "Code preview:"
      ],
      "metadata": {
        "id": "dLS1fodNc4ec"
      }
    },
    {
      "cell_type": "code",
      "source": [
        "class checkYear:\n",
        "    @staticmethod\n",
        "    def leap_year(year):\n",
        "        if (year % 4 == 0 and year % 100 != 0) or (year % 400 == 0):\n",
        "            return True\n",
        "        return False\n",
        "\n",
        "# Example usage:\n",
        "if __name__ == \"__main__\":\n",
        "    year = 2024\n",
        "    if checkYear.leap_year(year):\n",
        "        print(year, \"is a leap year.\")\n",
        "    else:\n",
        "        print(year, \"is not a leap year.\")"
      ],
      "metadata": {
        "colab": {
          "base_uri": "https://localhost:8080/"
        },
        "id": "4CXt5q-PctA3",
        "outputId": "ad5a02b7-7cca-43a8-dff7-71b43516381c"
      },
      "execution_count": 31,
      "outputs": [
        {
          "output_type": "stream",
          "name": "stdout",
          "text": [
            "2024 is a leap year.\n"
          ]
        }
      ]
    },
    {
      "cell_type": "code",
      "source": [],
      "metadata": {
        "id": "DY5330cjdIF7"
      },
      "execution_count": null,
      "outputs": []
    }
  ]
}